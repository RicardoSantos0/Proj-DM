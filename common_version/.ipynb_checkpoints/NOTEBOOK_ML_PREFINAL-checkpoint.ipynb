{
 "cells": [
  {
   "cell_type": "code",
   "execution_count": 7,
   "metadata": {},
   "outputs": [
    {
     "name": "stdout",
     "output_type": "stream",
     "text": [
      "Collecting imbalanced-learn\n",
      "  Downloading imbalanced_learn-0.7.0-py3-none-any.whl (167 kB)\n",
      "Requirement already satisfied: joblib>=0.11 in c:\\users\\ricardo santos\\anaconda3\\envs\\data_mining\\lib\\site-packages (from imbalanced-learn) (0.16.0)\n",
      "Requirement already satisfied: scikit-learn>=0.23 in c:\\users\\ricardo santos\\anaconda3\\envs\\data_mining\\lib\\site-packages (from imbalanced-learn) (0.23.2)\n",
      "Requirement already satisfied: scipy>=0.19.1 in c:\\users\\ricardo santos\\anaconda3\\envs\\data_mining\\lib\\site-packages (from imbalanced-learn) (1.5.0)\n",
      "Requirement already satisfied: numpy>=1.13.3 in c:\\users\\ricardo santos\\anaconda3\\envs\\data_mining\\lib\\site-packages (from imbalanced-learn) (1.19.1)\n",
      "Requirement already satisfied: threadpoolctl>=2.0.0 in c:\\users\\ricardo santos\\anaconda3\\envs\\data_mining\\lib\\site-packages (from scikit-learn>=0.23->imbalanced-learn) (2.1.0)\n",
      "Installing collected packages: imbalanced-learn\n",
      "Successfully installed imbalanced-learn-0.7.0\n"
     ]
    }
   ],
   "source": [
    "#import necessary modules/libraries\n",
    "import numpy as np\n",
    "import scipy\n",
    "import pandas as pd\n",
    "import datetime as dt\n",
    "import warnings\n",
    "import time\n",
    "warnings.filterwarnings('ignore')\n",
    "from sklearn.preprocessing import OneHotEncoder, MinMaxScaler, StandardScaler, RobustScaler\n",
    "import matplotlib.pyplot as plt\n",
    "import seaborn as sns\n",
    "from math import ceil\n",
    "from sklearn.model_selection import train_test_split, KFold, RepeatedKFold, RepeatedStratifiedKFold, cross_val_score, GridSearchCV\n",
    "from sklearn.neighbors import KNeighborsClassifier\n",
    "from sklearn.feature_selection import mutual_info_classif, RFE\n",
    "from sklearn.neural_network import MLPClassifier\n",
    "from sklearn.tree import DecisionTreeClassifier\n",
    "from collections import Counter\n",
    "from sklearn.datasets import make_classification\n",
    "#!{sys.executable} -m pip install imbalanced-learn\n",
    "from imblearn.under_sampling import RandomUnderSampler\n",
    "from imblearn.over_sampling import RandomOverSampler\n",
    "from sklearn.ensemble import RandomForestClassifier, ExtraTreesClassifier, BaggingClassifier, AdaBoostClassifier, GradientBoostingClassifier, StackingClassifier\n",
    "from sklearn.linear_model import LogisticRegression\n",
    "from sklearn.datasets import make_classification, load_digits\n",
    "from sklearn import svm\n",
    "from sklearn.feature_selection import SelectKBest, chi2, f_classif\n",
    "from sklearn.naive_bayes import GaussianNB, MultinomialNB, ComplementNB, BernoulliNB\n",
    "from sklearn.metrics import confusion_matrix, accuracy_score, precision_score, recall_score, f1_score, roc_auc_score, roc_curve, recall_score, classification_report, average_precision_score, precision_recall_curve\n"
   ]
  },
  {
   "cell_type": "code",
   "execution_count": 8,
   "metadata": {},
   "outputs": [
    {
     "ename": "FileNotFoundError",
     "evalue": "[Errno 2] No such file or directory: 'Train.xlsx'",
     "output_type": "error",
     "traceback": [
      "\u001b[1;31m---------------------------------------------------------------------------\u001b[0m",
      "\u001b[1;31mFileNotFoundError\u001b[0m                         Traceback (most recent call last)",
      "\u001b[1;32m<ipython-input-8-80ae47c86c2f>\u001b[0m in \u001b[0;36m<module>\u001b[1;34m\u001b[0m\n\u001b[0;32m      1\u001b[0m \u001b[1;31m#imports dataframes train and test\u001b[0m\u001b[1;33m\u001b[0m\u001b[1;33m\u001b[0m\u001b[1;33m\u001b[0m\u001b[0m\n\u001b[1;32m----> 2\u001b[1;33m \u001b[0mdf_train\u001b[0m \u001b[1;33m=\u001b[0m \u001b[0mpd\u001b[0m\u001b[1;33m.\u001b[0m\u001b[0mread_excel\u001b[0m\u001b[1;33m(\u001b[0m\u001b[1;34m\"Train.xlsx\"\u001b[0m\u001b[1;33m)\u001b[0m\u001b[1;33m\u001b[0m\u001b[1;33m\u001b[0m\u001b[0m\n\u001b[0m\u001b[0;32m      3\u001b[0m \u001b[0mdf_test_to_pred\u001b[0m \u001b[1;33m=\u001b[0m \u001b[0mpd\u001b[0m\u001b[1;33m.\u001b[0m\u001b[0mread_excel\u001b[0m\u001b[1;33m(\u001b[0m\u001b[1;34m\"Test.xlsx\"\u001b[0m\u001b[1;33m)\u001b[0m\u001b[1;33m\u001b[0m\u001b[1;33m\u001b[0m\u001b[0m\n",
      "\u001b[1;32m~\\anaconda3\\envs\\Data_Mining\\lib\\site-packages\\pandas\\util\\_decorators.py\u001b[0m in \u001b[0;36mwrapper\u001b[1;34m(*args, **kwargs)\u001b[0m\n\u001b[0;32m    294\u001b[0m                 )\n\u001b[0;32m    295\u001b[0m                 \u001b[0mwarnings\u001b[0m\u001b[1;33m.\u001b[0m\u001b[0mwarn\u001b[0m\u001b[1;33m(\u001b[0m\u001b[0mmsg\u001b[0m\u001b[1;33m,\u001b[0m \u001b[0mFutureWarning\u001b[0m\u001b[1;33m,\u001b[0m \u001b[0mstacklevel\u001b[0m\u001b[1;33m=\u001b[0m\u001b[0mstacklevel\u001b[0m\u001b[1;33m)\u001b[0m\u001b[1;33m\u001b[0m\u001b[1;33m\u001b[0m\u001b[0m\n\u001b[1;32m--> 296\u001b[1;33m             \u001b[1;32mreturn\u001b[0m \u001b[0mfunc\u001b[0m\u001b[1;33m(\u001b[0m\u001b[1;33m*\u001b[0m\u001b[0margs\u001b[0m\u001b[1;33m,\u001b[0m \u001b[1;33m**\u001b[0m\u001b[0mkwargs\u001b[0m\u001b[1;33m)\u001b[0m\u001b[1;33m\u001b[0m\u001b[1;33m\u001b[0m\u001b[0m\n\u001b[0m\u001b[0;32m    297\u001b[0m \u001b[1;33m\u001b[0m\u001b[0m\n\u001b[0;32m    298\u001b[0m         \u001b[1;32mreturn\u001b[0m \u001b[0mwrapper\u001b[0m\u001b[1;33m\u001b[0m\u001b[1;33m\u001b[0m\u001b[0m\n",
      "\u001b[1;32m~\\anaconda3\\envs\\Data_Mining\\lib\\site-packages\\pandas\\io\\excel\\_base.py\u001b[0m in \u001b[0;36mread_excel\u001b[1;34m(io, sheet_name, header, names, index_col, usecols, squeeze, dtype, engine, converters, true_values, false_values, skiprows, nrows, na_values, keep_default_na, na_filter, verbose, parse_dates, date_parser, thousands, comment, skipfooter, convert_float, mangle_dupe_cols)\u001b[0m\n\u001b[0;32m    302\u001b[0m \u001b[1;33m\u001b[0m\u001b[0m\n\u001b[0;32m    303\u001b[0m     \u001b[1;32mif\u001b[0m \u001b[1;32mnot\u001b[0m \u001b[0misinstance\u001b[0m\u001b[1;33m(\u001b[0m\u001b[0mio\u001b[0m\u001b[1;33m,\u001b[0m \u001b[0mExcelFile\u001b[0m\u001b[1;33m)\u001b[0m\u001b[1;33m:\u001b[0m\u001b[1;33m\u001b[0m\u001b[1;33m\u001b[0m\u001b[0m\n\u001b[1;32m--> 304\u001b[1;33m         \u001b[0mio\u001b[0m \u001b[1;33m=\u001b[0m \u001b[0mExcelFile\u001b[0m\u001b[1;33m(\u001b[0m\u001b[0mio\u001b[0m\u001b[1;33m,\u001b[0m \u001b[0mengine\u001b[0m\u001b[1;33m=\u001b[0m\u001b[0mengine\u001b[0m\u001b[1;33m)\u001b[0m\u001b[1;33m\u001b[0m\u001b[1;33m\u001b[0m\u001b[0m\n\u001b[0m\u001b[0;32m    305\u001b[0m     \u001b[1;32melif\u001b[0m \u001b[0mengine\u001b[0m \u001b[1;32mand\u001b[0m \u001b[0mengine\u001b[0m \u001b[1;33m!=\u001b[0m \u001b[0mio\u001b[0m\u001b[1;33m.\u001b[0m\u001b[0mengine\u001b[0m\u001b[1;33m:\u001b[0m\u001b[1;33m\u001b[0m\u001b[1;33m\u001b[0m\u001b[0m\n\u001b[0;32m    306\u001b[0m         raise ValueError(\n",
      "\u001b[1;32m~\\anaconda3\\envs\\Data_Mining\\lib\\site-packages\\pandas\\io\\excel\\_base.py\u001b[0m in \u001b[0;36m__init__\u001b[1;34m(self, path_or_buffer, engine)\u001b[0m\n\u001b[0;32m    865\u001b[0m         \u001b[0mself\u001b[0m\u001b[1;33m.\u001b[0m\u001b[0m_io\u001b[0m \u001b[1;33m=\u001b[0m \u001b[0mstringify_path\u001b[0m\u001b[1;33m(\u001b[0m\u001b[0mpath_or_buffer\u001b[0m\u001b[1;33m)\u001b[0m\u001b[1;33m\u001b[0m\u001b[1;33m\u001b[0m\u001b[0m\n\u001b[0;32m    866\u001b[0m \u001b[1;33m\u001b[0m\u001b[0m\n\u001b[1;32m--> 867\u001b[1;33m         \u001b[0mself\u001b[0m\u001b[1;33m.\u001b[0m\u001b[0m_reader\u001b[0m \u001b[1;33m=\u001b[0m \u001b[0mself\u001b[0m\u001b[1;33m.\u001b[0m\u001b[0m_engines\u001b[0m\u001b[1;33m[\u001b[0m\u001b[0mengine\u001b[0m\u001b[1;33m]\u001b[0m\u001b[1;33m(\u001b[0m\u001b[0mself\u001b[0m\u001b[1;33m.\u001b[0m\u001b[0m_io\u001b[0m\u001b[1;33m)\u001b[0m\u001b[1;33m\u001b[0m\u001b[1;33m\u001b[0m\u001b[0m\n\u001b[0m\u001b[0;32m    868\u001b[0m \u001b[1;33m\u001b[0m\u001b[0m\n\u001b[0;32m    869\u001b[0m     \u001b[1;32mdef\u001b[0m \u001b[0m__fspath__\u001b[0m\u001b[1;33m(\u001b[0m\u001b[0mself\u001b[0m\u001b[1;33m)\u001b[0m\u001b[1;33m:\u001b[0m\u001b[1;33m\u001b[0m\u001b[1;33m\u001b[0m\u001b[0m\n",
      "\u001b[1;32m~\\anaconda3\\envs\\Data_Mining\\lib\\site-packages\\pandas\\io\\excel\\_xlrd.py\u001b[0m in \u001b[0;36m__init__\u001b[1;34m(self, filepath_or_buffer)\u001b[0m\n\u001b[0;32m     20\u001b[0m         \u001b[0merr_msg\u001b[0m \u001b[1;33m=\u001b[0m \u001b[1;34m\"Install xlrd >= 1.0.0 for Excel support\"\u001b[0m\u001b[1;33m\u001b[0m\u001b[1;33m\u001b[0m\u001b[0m\n\u001b[0;32m     21\u001b[0m         \u001b[0mimport_optional_dependency\u001b[0m\u001b[1;33m(\u001b[0m\u001b[1;34m\"xlrd\"\u001b[0m\u001b[1;33m,\u001b[0m \u001b[0mextra\u001b[0m\u001b[1;33m=\u001b[0m\u001b[0merr_msg\u001b[0m\u001b[1;33m)\u001b[0m\u001b[1;33m\u001b[0m\u001b[1;33m\u001b[0m\u001b[0m\n\u001b[1;32m---> 22\u001b[1;33m         \u001b[0msuper\u001b[0m\u001b[1;33m(\u001b[0m\u001b[1;33m)\u001b[0m\u001b[1;33m.\u001b[0m\u001b[0m__init__\u001b[0m\u001b[1;33m(\u001b[0m\u001b[0mfilepath_or_buffer\u001b[0m\u001b[1;33m)\u001b[0m\u001b[1;33m\u001b[0m\u001b[1;33m\u001b[0m\u001b[0m\n\u001b[0m\u001b[0;32m     23\u001b[0m \u001b[1;33m\u001b[0m\u001b[0m\n\u001b[0;32m     24\u001b[0m     \u001b[1;33m@\u001b[0m\u001b[0mproperty\u001b[0m\u001b[1;33m\u001b[0m\u001b[1;33m\u001b[0m\u001b[0m\n",
      "\u001b[1;32m~\\anaconda3\\envs\\Data_Mining\\lib\\site-packages\\pandas\\io\\excel\\_base.py\u001b[0m in \u001b[0;36m__init__\u001b[1;34m(self, filepath_or_buffer)\u001b[0m\n\u001b[0;32m    351\u001b[0m             \u001b[0mself\u001b[0m\u001b[1;33m.\u001b[0m\u001b[0mbook\u001b[0m \u001b[1;33m=\u001b[0m \u001b[0mself\u001b[0m\u001b[1;33m.\u001b[0m\u001b[0mload_workbook\u001b[0m\u001b[1;33m(\u001b[0m\u001b[0mfilepath_or_buffer\u001b[0m\u001b[1;33m)\u001b[0m\u001b[1;33m\u001b[0m\u001b[1;33m\u001b[0m\u001b[0m\n\u001b[0;32m    352\u001b[0m         \u001b[1;32melif\u001b[0m \u001b[0misinstance\u001b[0m\u001b[1;33m(\u001b[0m\u001b[0mfilepath_or_buffer\u001b[0m\u001b[1;33m,\u001b[0m \u001b[0mstr\u001b[0m\u001b[1;33m)\u001b[0m\u001b[1;33m:\u001b[0m\u001b[1;33m\u001b[0m\u001b[1;33m\u001b[0m\u001b[0m\n\u001b[1;32m--> 353\u001b[1;33m             \u001b[0mself\u001b[0m\u001b[1;33m.\u001b[0m\u001b[0mbook\u001b[0m \u001b[1;33m=\u001b[0m \u001b[0mself\u001b[0m\u001b[1;33m.\u001b[0m\u001b[0mload_workbook\u001b[0m\u001b[1;33m(\u001b[0m\u001b[0mfilepath_or_buffer\u001b[0m\u001b[1;33m)\u001b[0m\u001b[1;33m\u001b[0m\u001b[1;33m\u001b[0m\u001b[0m\n\u001b[0m\u001b[0;32m    354\u001b[0m         \u001b[1;32melif\u001b[0m \u001b[0misinstance\u001b[0m\u001b[1;33m(\u001b[0m\u001b[0mfilepath_or_buffer\u001b[0m\u001b[1;33m,\u001b[0m \u001b[0mbytes\u001b[0m\u001b[1;33m)\u001b[0m\u001b[1;33m:\u001b[0m\u001b[1;33m\u001b[0m\u001b[1;33m\u001b[0m\u001b[0m\n\u001b[0;32m    355\u001b[0m             \u001b[0mself\u001b[0m\u001b[1;33m.\u001b[0m\u001b[0mbook\u001b[0m \u001b[1;33m=\u001b[0m \u001b[0mself\u001b[0m\u001b[1;33m.\u001b[0m\u001b[0mload_workbook\u001b[0m\u001b[1;33m(\u001b[0m\u001b[0mBytesIO\u001b[0m\u001b[1;33m(\u001b[0m\u001b[0mfilepath_or_buffer\u001b[0m\u001b[1;33m)\u001b[0m\u001b[1;33m)\u001b[0m\u001b[1;33m\u001b[0m\u001b[1;33m\u001b[0m\u001b[0m\n",
      "\u001b[1;32m~\\anaconda3\\envs\\Data_Mining\\lib\\site-packages\\pandas\\io\\excel\\_xlrd.py\u001b[0m in \u001b[0;36mload_workbook\u001b[1;34m(self, filepath_or_buffer)\u001b[0m\n\u001b[0;32m     35\u001b[0m             \u001b[1;32mreturn\u001b[0m \u001b[0mopen_workbook\u001b[0m\u001b[1;33m(\u001b[0m\u001b[0mfile_contents\u001b[0m\u001b[1;33m=\u001b[0m\u001b[0mdata\u001b[0m\u001b[1;33m)\u001b[0m\u001b[1;33m\u001b[0m\u001b[1;33m\u001b[0m\u001b[0m\n\u001b[0;32m     36\u001b[0m         \u001b[1;32melse\u001b[0m\u001b[1;33m:\u001b[0m\u001b[1;33m\u001b[0m\u001b[1;33m\u001b[0m\u001b[0m\n\u001b[1;32m---> 37\u001b[1;33m             \u001b[1;32mreturn\u001b[0m \u001b[0mopen_workbook\u001b[0m\u001b[1;33m(\u001b[0m\u001b[0mfilepath_or_buffer\u001b[0m\u001b[1;33m)\u001b[0m\u001b[1;33m\u001b[0m\u001b[1;33m\u001b[0m\u001b[0m\n\u001b[0m\u001b[0;32m     38\u001b[0m \u001b[1;33m\u001b[0m\u001b[0m\n\u001b[0;32m     39\u001b[0m     \u001b[1;33m@\u001b[0m\u001b[0mproperty\u001b[0m\u001b[1;33m\u001b[0m\u001b[1;33m\u001b[0m\u001b[0m\n",
      "\u001b[1;32m~\\anaconda3\\envs\\Data_Mining\\lib\\site-packages\\xlrd\\__init__.py\u001b[0m in \u001b[0;36mopen_workbook\u001b[1;34m(filename, logfile, verbosity, use_mmap, file_contents, encoding_override, formatting_info, on_demand, ragged_rows)\u001b[0m\n\u001b[0;32m    109\u001b[0m     \u001b[1;32melse\u001b[0m\u001b[1;33m:\u001b[0m\u001b[1;33m\u001b[0m\u001b[1;33m\u001b[0m\u001b[0m\n\u001b[0;32m    110\u001b[0m         \u001b[0mfilename\u001b[0m \u001b[1;33m=\u001b[0m \u001b[0mos\u001b[0m\u001b[1;33m.\u001b[0m\u001b[0mpath\u001b[0m\u001b[1;33m.\u001b[0m\u001b[0mexpanduser\u001b[0m\u001b[1;33m(\u001b[0m\u001b[0mfilename\u001b[0m\u001b[1;33m)\u001b[0m\u001b[1;33m\u001b[0m\u001b[1;33m\u001b[0m\u001b[0m\n\u001b[1;32m--> 111\u001b[1;33m         \u001b[1;32mwith\u001b[0m \u001b[0mopen\u001b[0m\u001b[1;33m(\u001b[0m\u001b[0mfilename\u001b[0m\u001b[1;33m,\u001b[0m \u001b[1;34m\"rb\"\u001b[0m\u001b[1;33m)\u001b[0m \u001b[1;32mas\u001b[0m \u001b[0mf\u001b[0m\u001b[1;33m:\u001b[0m\u001b[1;33m\u001b[0m\u001b[1;33m\u001b[0m\u001b[0m\n\u001b[0m\u001b[0;32m    112\u001b[0m             \u001b[0mpeek\u001b[0m \u001b[1;33m=\u001b[0m \u001b[0mf\u001b[0m\u001b[1;33m.\u001b[0m\u001b[0mread\u001b[0m\u001b[1;33m(\u001b[0m\u001b[0mpeeksz\u001b[0m\u001b[1;33m)\u001b[0m\u001b[1;33m\u001b[0m\u001b[1;33m\u001b[0m\u001b[0m\n\u001b[0;32m    113\u001b[0m     \u001b[1;32mif\u001b[0m \u001b[0mpeek\u001b[0m \u001b[1;33m==\u001b[0m \u001b[1;34mb\"PK\\x03\\x04\"\u001b[0m\u001b[1;33m:\u001b[0m \u001b[1;31m# a ZIP file\u001b[0m\u001b[1;33m\u001b[0m\u001b[1;33m\u001b[0m\u001b[0m\n",
      "\u001b[1;31mFileNotFoundError\u001b[0m: [Errno 2] No such file or directory: 'Train.xlsx'"
     ]
    }
   ],
   "source": [
    "#imports dataframes train and test\n",
    "df_train = pd.read_excel(\"Train.xlsx\")\n",
    "df_test_to_pred = pd.read_excel(\"Test.xlsx\")"
   ]
  },
  {
   "cell_type": "markdown",
   "metadata": {},
   "source": [
    "# INITIAL EXPLORATION, CLEANING & FEATURE ENGINEERING"
   ]
  },
  {
   "cell_type": "code",
   "execution_count": null,
   "metadata": {},
   "outputs": [],
   "source": [
    "#SOME CLEANING"
   ]
  },
  {
   "cell_type": "code",
   "execution_count": null,
   "metadata": {},
   "outputs": [],
   "source": [
    "#replaces ? with np.nan\n",
    "df_train.replace('?', np.nan, inplace=True)\n",
    "df_test_to_pred.replace('?', np.nan, inplace=True)"
   ]
  },
  {
   "cell_type": "code",
   "execution_count": null,
   "metadata": {},
   "outputs": [],
   "source": [
    "#replaces nan with np.nan\n",
    "df_train.replace('nan', np.nan, inplace=True)\n",
    "df_test_to_pred.replace('nan', np.nan, inplace=True)"
   ]
  },
  {
   "cell_type": "code",
   "execution_count": 3,
   "metadata": {},
   "outputs": [],
   "source": [
    "# count of missing values for train #test is similar\n",
    "#df_train.isna().sum()"
   ]
  },
  {
   "cell_type": "code",
   "execution_count": 4,
   "metadata": {},
   "outputs": [
    {
     "ename": "NameError",
     "evalue": "name 'df_train' is not defined",
     "output_type": "error",
     "traceback": [
      "\u001b[1;31m---------------------------------------------------------------------------\u001b[0m",
      "\u001b[1;31mNameError\u001b[0m                                 Traceback (most recent call last)",
      "\u001b[1;32m<ipython-input-4-0c8df924a2c2>\u001b[0m in \u001b[0;36m<module>\u001b[1;34m\u001b[0m\n\u001b[0;32m      2\u001b[0m \u001b[1;33m\u001b[0m\u001b[0m\n\u001b[0;32m      3\u001b[0m \u001b[1;31m#feel comfortable replacing NaNs in 'Emplyment Sector' by mode coz vast majority of entries belong to same class, so this won't have a big impact\u001b[0m\u001b[1;33m\u001b[0m\u001b[1;33m\u001b[0m\u001b[1;33m\u001b[0m\u001b[0m\n\u001b[1;32m----> 4\u001b[1;33m \u001b[0mmodes\u001b[0m \u001b[1;33m=\u001b[0m \u001b[0mdf_train\u001b[0m\u001b[1;33m[\u001b[0m\u001b[1;34m'Employment Sector'\u001b[0m\u001b[1;33m]\u001b[0m\u001b[1;33m.\u001b[0m\u001b[0mmode\u001b[0m\u001b[1;33m(\u001b[0m\u001b[1;33m)\u001b[0m\u001b[1;33m.\u001b[0m\u001b[0mloc\u001b[0m\u001b[1;33m[\u001b[0m\u001b[1;36m0\u001b[0m\u001b[1;33m]\u001b[0m\u001b[1;33m\u001b[0m\u001b[1;33m\u001b[0m\u001b[0m\n\u001b[0m\u001b[0;32m      5\u001b[0m \u001b[0mdf_train\u001b[0m\u001b[1;33m[\u001b[0m\u001b[1;34m'Employment Sector'\u001b[0m\u001b[1;33m]\u001b[0m\u001b[1;33m.\u001b[0m\u001b[0mfillna\u001b[0m\u001b[1;33m(\u001b[0m\u001b[0mmodes\u001b[0m\u001b[1;33m,\u001b[0m \u001b[0minplace\u001b[0m\u001b[1;33m=\u001b[0m\u001b[1;32mTrue\u001b[0m\u001b[1;33m)\u001b[0m\u001b[1;33m\u001b[0m\u001b[1;33m\u001b[0m\u001b[0m\n\u001b[0;32m      6\u001b[0m \u001b[0mmodes\u001b[0m \u001b[1;33m=\u001b[0m \u001b[0mdf_test_to_pred\u001b[0m\u001b[1;33m[\u001b[0m\u001b[1;34m'Employment Sector'\u001b[0m\u001b[1;33m]\u001b[0m\u001b[1;33m.\u001b[0m\u001b[0mmode\u001b[0m\u001b[1;33m(\u001b[0m\u001b[1;33m)\u001b[0m\u001b[1;33m.\u001b[0m\u001b[0mloc\u001b[0m\u001b[1;33m[\u001b[0m\u001b[1;36m0\u001b[0m\u001b[1;33m]\u001b[0m\u001b[1;33m\u001b[0m\u001b[1;33m\u001b[0m\u001b[0m\n",
      "\u001b[1;31mNameError\u001b[0m: name 'df_train' is not defined"
     ]
    }
   ],
   "source": [
    "#deals with missing values categorical features differently:\n",
    "\n",
    "#feel comfortable replacing NaNs in 'Emplyment Sector' by mode coz vast majority of entries belong to same class, so this won't have a big impact\n",
    "modes = df_train['Employment Sector'].mode().loc[0]\n",
    "df_train['Employment Sector'].fillna(modes, inplace=True)\n",
    "modes = df_test_to_pred['Employment Sector'].mode().loc[0]\n",
    "df_test_to_pred['Employment Sector'].fillna(modes, inplace=True)\n",
    "\n",
    "#since \"Role\" value_counts are so well distributed, we cannot simply replace missing values with mode; best solution here would be to create new categorical of \"Unknown\"\n",
    "df_train['Role'].fillna('Unknown', inplace=True)\n",
    "df_test_to_pred['Role'].fillna('Unknown', inplace=True)\n",
    "\n",
    "#Base Are in test with mode as well\n",
    "modes = df_train['Base Area'].mode().loc[0]\n",
    "df_train['Base Area'].fillna(modes, inplace=True)\n",
    "modes = df_test_to_pred['Base Area'].mode().loc[0]\n",
    "df_test_to_pred['Base Area'].fillna(modes, inplace=True)\n",
    "\n",
    "#df_test.isna().sum() #checking how many NaNs we still have"
   ]
  },
  {
   "cell_type": "code",
   "execution_count": 8,
   "metadata": {},
   "outputs": [],
   "source": [
    "#replaces index by ID of citizens; drops previous\n",
    "df_train = df_train.set_index('CITIZEN_ID', drop=True)\n",
    "df_test_to_pred = df_test_to_pred.set_index('CITIZEN_ID', drop=True)"
   ]
  },
  {
   "cell_type": "code",
   "execution_count": null,
   "metadata": {},
   "outputs": [],
   "source": []
  },
  {
   "cell_type": "code",
   "execution_count": 9,
   "metadata": {},
   "outputs": [],
   "source": [
    "#SOME FEATURE ENGINEERING"
   ]
  },
  {
   "cell_type": "code",
   "execution_count": 10,
   "metadata": {},
   "outputs": [],
   "source": [
    "#splits pronoun of person and it's name,m to be able to infer gender for each person\n",
    "df_train[['Gender','Name']] = df_train.Name.str.split(\" \", n=1, expand=True)\n",
    "df_test_to_pred[['Gender','Name']] =  df_test_to_pred.Name.str.split(\" \", n=1, expand=True)\n",
    "\n",
    "#df_train['Gender'].unique()\n",
    "\n",
    "df_train['Gender'].replace(['Miss', 'Mrs.', 'Mr.'], [0,0,1],inplace=True)\n",
    "df_train = df_train.drop(\"Name\", axis=1)\n",
    "df_test_to_pred['Gender'].replace(['Miss', 'Mrs.', 'Mr.'], [0,0,1],inplace=True)\n",
    "df_test_to_pred = df_test_to_pred.drop(\"Name\", axis=1)"
   ]
  },
  {
   "cell_type": "code",
   "execution_count": 11,
   "metadata": {},
   "outputs": [],
   "source": [
    "#calculates age and drops birthay column\n",
    "birthday = df_train[\"Birthday\"].str.split(\",\", n=1, expand=True).rename(columns={0:\"Day and month\", 1:\"Year\"})\n",
    "df_train = df_train.assign(Birthday=birthday['Year'])\n",
    "df_train[\"Birthday\"] = df_train[\"Birthday\"].astype(int)\n",
    "df_train[\"Birthday\"] = 2048 - df_train[\"Birthday\"]\n",
    "df_train.rename(columns={'Birthday':'Age'}, inplace=True)\n",
    "\n",
    "birthday = df_test_to_pred[\"Birthday\"].str.split(\",\", n=1, expand=True).rename(columns={0:\"Day and month\", 1:\"Year\"})\n",
    "df_test_to_pred = df_test_to_pred.assign(Birthday=birthday['Year'])\n",
    "df_test_to_pred[\"Birthday\"] = df_test_to_pred[\"Birthday\"].astype(int)\n",
    "df_test_to_pred[\"Birthday\"] = 2048 - df_test_to_pred[\"Birthday\"]\n",
    "df_test_to_pred.rename(columns={'Birthday':'Age'}, inplace=True)"
   ]
  },
  {
   "cell_type": "code",
   "execution_count": null,
   "metadata": {},
   "outputs": [],
   "source": []
  },
  {
   "cell_type": "code",
   "execution_count": 12,
   "metadata": {},
   "outputs": [],
   "source": [
    "#SOME DATA EXPLORATION"
   ]
  },
  {
   "cell_type": "code",
   "execution_count": 13,
   "metadata": {},
   "outputs": [],
   "source": [
    "metric_features = ['Age', 'Years of Education', 'Working Hours per week', 'Money Received', 'Ticket Price']\n",
    "non_metric_features = ['Native Continent', 'Marital Status', 'Lives with', 'Base Area', 'Education Level', 'Employment Sector', 'Role']"
   ]
  },
  {
   "cell_type": "code",
   "execution_count": 14,
   "metadata": {},
   "outputs": [],
   "source": [
    "#Pairwise Relationship of Numerical Variables\n",
    "#sns.set()\n",
    "\n",
    "# Setting pairplot\n",
    "#sns.pairplot(df_train[metric_features], diag_kind=\"hist\")\n",
    "\n",
    "# Layout\n",
    "#plt.subplots_adjust(top=0.95)\n",
    "#plt.suptitle(\"Pairwise Relationship of Numerical Variables\", fontsize=20)\n",
    "\n",
    "#plt.show()\n",
    "\n",
    "#There doesn't seem to exist much obvious relationships between numerical variables; values are distributed throughout distribution plot"
   ]
  },
  {
   "cell_type": "code",
   "execution_count": 15,
   "metadata": {},
   "outputs": [],
   "source": [
    "#def cor_heatmap(cor):\n",
    "    #plt.figure(figsize=(12,10))\n",
    "    #sns.heatmap(data = cor, annot = True, cmap = plt.cm.Reds, fmt='.1')\n",
    "    #plt.show()\n",
    "    \n",
    "#cor_pearson = df_train[metric_features].corr(method = 'spearman')\n",
    "#cor_heatmap(cor_pearson)'''"
   ]
  },
  {
   "cell_type": "code",
   "execution_count": 16,
   "metadata": {},
   "outputs": [],
   "source": [
    "#Proportion Plots"
   ]
  },
  {
   "cell_type": "code",
   "execution_count": 17,
   "metadata": {},
   "outputs": [],
   "source": [
    "#def bar_charts_categorical(df, feature, target):\n",
    "    #cont_tab = pd.crosstab(df[feature], df[target], margins = True)\n",
    "    #categories = cont_tab.index[:-1]\n",
    "        \n",
    "    #fig = plt.figure(figsize=(15, 5))\n",
    "    \n",
    "    #plt.subplot(121)\n",
    "    #p1 = plt.bar(categories, cont_tab.iloc[:-1, 0].values, 0.55, color=\"gray\")\n",
    "    #p2 = plt.bar(categories, cont_tab.iloc[:-1, 1].values, 0.55, bottom=cont_tab.iloc[:-1, 0], color=\"skyblue\")\n",
    "    #plt.legend((p2[0], p1[0]), ('$y_i=1$', '$y_i=0$'))\n",
    "    #plt.xticks(rotation='vertical')\n",
    "    #plt.title(\"Frequency bar chart\")\n",
    "    #plt.xlabel(feature)\n",
    "    #plt.ylabel(\"$Frequency$\")\n",
    "\n",
    "    # auxiliary data for 122\n",
    "    #obs_pct = np.array([np.divide(cont_tab.iloc[:-1, 0].values, cont_tab.iloc[:-1, 2].values), \n",
    "                        #np.divide(cont_tab.iloc[:-1, 1].values, cont_tab.iloc[:-1, 2].values)])\n",
    "      \n",
    "    #plt.subplot(122)\n",
    "    #p1 = plt.bar(categories, obs_pct[0], 0.55, color=\"gray\")\n",
    "    #p2 = plt.bar(categories, obs_pct[1], 0.55, bottom=obs_pct[0], color=\"skyblue\")\n",
    "    #plt.xticks(rotation='vertical')\n",
    "    #plt.legend((p2[0], p1[0]), ('$y_i=1$', '$y_i=0$'))\n",
    "    #plt.title(\"Proportion bar chart\")\n",
    "    #plt.xlabel(feature)\n",
    "    #plt.ylabel(\"$p$\")\n",
    "\n",
    "    #plt.show()"
   ]
  },
  {
   "cell_type": "code",
   "execution_count": null,
   "metadata": {},
   "outputs": [],
   "source": []
  },
  {
   "cell_type": "code",
   "execution_count": 18,
   "metadata": {},
   "outputs": [],
   "source": [
    "#Based on an initial observation of these proportions plots, the variables \"Native Continent\" and \"Base Area\" concentrate the vast majority of all instances in teh same values; thus, these will be variables that will only biase the model and won't be bringing any discriminative power to it; for these reasons, we will be dropping them here."
   ]
  },
  {
   "cell_type": "code",
   "execution_count": 19,
   "metadata": {},
   "outputs": [],
   "source": [
    "df_train.drop('Base Area', axis = 1, inplace=True)\n",
    "df_test_to_pred.drop('Base Area', axis = 1, inplace=True)\n",
    "\n",
    "df_train.drop('Native Continent', axis = 1, inplace=True)\n",
    "df_test_to_pred.drop('Native Continent', axis = 1, inplace=True)"
   ]
  },
  {
   "cell_type": "code",
   "execution_count": null,
   "metadata": {},
   "outputs": [],
   "source": []
  },
  {
   "cell_type": "code",
   "execution_count": 20,
   "metadata": {},
   "outputs": [],
   "source": [
    "#FURHER FEATURE ENGINEERING"
   ]
  },
  {
   "cell_type": "code",
   "execution_count": 21,
   "metadata": {},
   "outputs": [],
   "source": [
    "#ONE-HOT ENCODING TO ENCODE CATEGORICAL VARIABLES"
   ]
  },
  {
   "cell_type": "code",
   "execution_count": 22,
   "metadata": {},
   "outputs": [],
   "source": [
    "df_ohc_train = df_train.copy()\n",
    "df_ohc_test = df_test_to_pred.copy()"
   ]
  },
  {
   "cell_type": "code",
   "execution_count": 23,
   "metadata": {},
   "outputs": [],
   "source": [
    "non_metric_features = ['Employment Sector', 'Marital Status', 'Lives with', 'Education Level', 'Role']"
   ]
  },
  {
   "cell_type": "code",
   "execution_count": 24,
   "metadata": {},
   "outputs": [],
   "source": [
    "ohc = OneHotEncoder(sparse=False, drop='first')\n",
    "ohc_feat_train = ohc.fit_transform(df_ohc_train[non_metric_features])\n",
    "ohc_feat_names = ohc.get_feature_names()\n",
    "ohc_df_train = pd.DataFrame(ohc_feat_train, index=df_ohc_train.index, columns=ohc_feat_names)  # Why the index=df_ohc.index?\n",
    "\n",
    "ohc = OneHotEncoder(sparse=False, drop='first')\n",
    "ohc_feat_test = ohc.fit_transform(df_ohc_test[non_metric_features])\n",
    "ohc_feat_names = ohc.get_feature_names()\n",
    "ohc_df_test = pd.DataFrame(ohc_feat_test, index=df_ohc_test.index, columns=ohc_feat_names)"
   ]
  },
  {
   "cell_type": "code",
   "execution_count": 25,
   "metadata": {},
   "outputs": [],
   "source": [
    "df_ohc_train = pd.concat([df_ohc_train.drop(columns=non_metric_features), ohc_df_train], axis=1)\n",
    "df_ohc_test = pd.concat([df_ohc_test.drop(columns=non_metric_features), ohc_df_test], axis=1)"
   ]
  },
  {
   "cell_type": "code",
   "execution_count": null,
   "metadata": {},
   "outputs": [],
   "source": []
  },
  {
   "cell_type": "code",
   "execution_count": 26,
   "metadata": {},
   "outputs": [],
   "source": [
    "#CHECKING FOR OUTLIERS"
   ]
  },
  {
   "cell_type": "code",
   "execution_count": 27,
   "metadata": {},
   "outputs": [],
   "source": [
    "df_outlier_train = df_ohc_train.copy()\n",
    "df_outlier_test = df_ohc_test.copy()"
   ]
  },
  {
   "cell_type": "code",
   "execution_count": 28,
   "metadata": {},
   "outputs": [],
   "source": [
    "#applies log(x+1) in ticket price and money recieved columns\n",
    "df_outlier_train[['Ticket Price', 'Money Received']] = df_outlier_train[['Ticket Price', 'Money Received']].apply(lambda x: np.log1p(x))\n",
    "df_outlier_test[['Ticket Price', 'Money Received']] = df_outlier_test[['Ticket Price', 'Money Received']].apply(lambda x: np.log1p(x))\n"
   ]
  },
  {
   "cell_type": "code",
   "execution_count": 29,
   "metadata": {},
   "outputs": [],
   "source": [
    "# Prepare figure. Create individual axes where each box plot will be placed\n",
    "#fig, axes = plt.subplots(2, ceil(len(metric_features) / 2), figsize=(18, 8))\n",
    "\n",
    "# Plot data\n",
    "# Iterate across axes objects and associate each box plot (hint: use the ax argument):\n",
    "#for ax, feat in zip(axes.flatten(), metric_features): # Notice the zip() function and flatten() method\n",
    "    #sns.boxplot(x=df_outlier_train[feat], ax=ax)\n",
    "    \n",
    "# Layout\n",
    "# Add a centered title to the figure:\n",
    "#title = \"Numeric Variables' Box Plots\"\n",
    "\n",
    "#plt.suptitle(title)\n",
    "\n",
    "#plt.show()\n"
   ]
  },
  {
   "cell_type": "code",
   "execution_count": 30,
   "metadata": {},
   "outputs": [],
   "source": [
    "#from numpy import percentile\n",
    "#from scipy import stats\n",
    "\n",
    "#for feature in metric_features:\n",
    "    # calculate interquartile range\n",
    "    #q25, q75 = percentile(df_outlier_train[feature], 25), percentile(df_outlier_train[feature], 75)\n",
    "    #iqr = q75 - q25\n",
    "    # calculate the outlier cutoff\n",
    "    #cut_off = iqr * 1.5\n",
    "    #lower, upper = q25 - cut_off, q75 + cut_off\n",
    "\n",
    "    #df_outlier_train[feature] = df_outlier_train[feature][((df_outlier_train[feature] < upper) & (df_outlier_train[feature] > lower))]\n",
    "    \n",
    "#from scipy import stats\n",
    "#df_outlier_train=df_outlier_train[(np.abs(stats.zscore(df)) < 3).all(axis=1)]"
   ]
  },
  {
   "cell_type": "markdown",
   "metadata": {},
   "source": [
    "Upon investigation of the distribution of our numerical variables, we concluded that none of the datapoints that appear outside of the whiskers of the boxplots (see above) seem to be measurement errors, data entry errors or not part of the population in study (as they all make sense in the numerical range of the corresponding variable), i.e. they seem to be natural variations of the data distributions. While these are oddballs, they accurately reflect the potential surprises and uncertainty inherent in ages, years of education or working hours per week. For the particular case of the variables Money Received and Ticket Price, a similar logical can be followed, as extreme values of \"Money Received\" can be consider extremely important/necessary/influencial persons being recruited to the mission, and neither the values of this variable or the variable Ticket Price are unreasonable. However, we do acknoweledge that having such a wide range or extreme values in this two particular variables can be detrimental to the performance of our model, so we applied a log transformation to them, as an attempt to reduce the variance between these datapoints (although we didn't find evidence for differnet performance in our final model, with or without log application!). Even if our final model performs better after removing these datapoints (which we don't think it is the case since our final model is based in decision trees, which are known to be very robust to outliers (REFS)), the model would make make the process appear more predictable than it actually is. Even though these unusual observations can influence the model performance, we made the decision of keeping them, as it is bad practice to remove data points just for the sake of simply producing a better fitting model or statistically significant results."
   ]
  },
  {
   "cell_type": "code",
   "execution_count": 31,
   "metadata": {},
   "outputs": [],
   "source": [
    "#All Numeric Variables' Histograms in one figure\n",
    "#sns.set()\n",
    "\n",
    "# Prepare figure. Create individual axes where each histogram will be placed\n",
    "#fig, axes = plt.subplots(2, ceil(len(metric_features) / 2), figsize=(18, 8))\n",
    "\n",
    "# Plot data\n",
    "# Iterate across axes objects and associate each histogram (hint: use the ax.hist() instead of plt.hist()):\n",
    "#for ax, feat in zip(axes.flatten(), metric_features): # Notice the zip() function and flatten() method\n",
    "    #ax.hist(df_outlier_train[feat])\n",
    "    #ax.set_title(feat)\n",
    "    #ax.set_xlim(min(df_outlier_train[feat]), max(df_outlier_train[feat]))\n",
    "    \n",
    "# Layout\n",
    "# Add a centered title to the figure:\n",
    "#title = \"Numeric Variables' Histograms\"\n",
    "\n",
    "#plt.suptitle(title)\n",
    "\n",
    "#plt.show()"
   ]
  },
  {
   "cell_type": "code",
   "execution_count": null,
   "metadata": {},
   "outputs": [],
   "source": []
  },
  {
   "cell_type": "code",
   "execution_count": 32,
   "metadata": {},
   "outputs": [],
   "source": [
    "#NORMALIZING DATA"
   ]
  },
  {
   "cell_type": "code",
   "execution_count": 33,
   "metadata": {},
   "outputs": [],
   "source": [
    "df_normalization_train = df_outlier_train.copy()\n",
    "df_normalization_test = df_outlier_test.copy()"
   ]
  },
  {
   "cell_type": "code",
   "execution_count": 34,
   "metadata": {},
   "outputs": [],
   "source": [
    "scaler = MinMaxScaler(feature_range=(0, 1))\n",
    "#scaler = StandardScaler()\n",
    "#scaler = RobustScaler()\n",
    "#try MinMax with feature_range=(-1,1) as well\n",
    "df_normalization_train_metric = pd.DataFrame(scaler.fit_transform(df_normalization_train[metric_features]), index=df_normalization_train.index, columns=metric_features)\n",
    "df_normalization_test_metric = pd.DataFrame(scaler.fit_transform(df_normalization_test[metric_features]), index=df_normalization_test.index, columns=metric_features)"
   ]
  },
  {
   "cell_type": "code",
   "execution_count": 35,
   "metadata": {},
   "outputs": [],
   "source": [
    "df_normalization_train = pd.concat([df_normalization_train.drop(columns=metric_features), df_normalization_train_metric], axis=1)\n",
    "df_normalization_test = pd.concat([df_normalization_test.drop(columns=metric_features), df_normalization_test_metric], axis=1)"
   ]
  },
  {
   "cell_type": "code",
   "execution_count": null,
   "metadata": {},
   "outputs": [],
   "source": []
  },
  {
   "cell_type": "markdown",
   "metadata": {},
   "source": [
    "# INITIAL FEATURE SELECTION"
   ]
  },
  {
   "cell_type": "code",
   "execution_count": 36,
   "metadata": {},
   "outputs": [],
   "source": [
    "df_fselection_train = df_normalization_train.copy()\n",
    "df_fselection_test = df_normalization_test.copy()"
   ]
  },
  {
   "cell_type": "code",
   "execution_count": 37,
   "metadata": {},
   "outputs": [],
   "source": [
    "#defines numerical and categorical variables\n",
    "numerical_variables = ['Age', 'Years of Education', 'Working Hours per week', 'Ticket Price', \"Money Received\"]\n",
    "categorical_variables = [variable for variable in df_fselection_train.columns if variable not in numerical_variables]\n",
    "categorical_variables.remove('Income') #lets drop the dependent variable"
   ]
  },
  {
   "cell_type": "markdown",
   "metadata": {},
   "source": [
    "1. Correlation numerical variables"
   ]
  },
  {
   "cell_type": "code",
   "execution_count": 1,
   "metadata": {},
   "outputs": [
    {
     "ename": "NameError",
     "evalue": "name 'plt' is not defined",
     "output_type": "error",
     "traceback": [
      "\u001b[1;31m---------------------------------------------------------------------------\u001b[0m",
      "\u001b[1;31mNameError\u001b[0m                                 Traceback (most recent call last)",
      "\u001b[1;32m<ipython-input-1-c5031a9ad671>\u001b[0m in \u001b[0;36m<module>\u001b[1;34m\u001b[0m\n\u001b[0;32m      1\u001b[0m \u001b[1;31m#Correlation Matrix with Heatmap\u001b[0m\u001b[1;33m\u001b[0m\u001b[1;33m\u001b[0m\u001b[1;33m\u001b[0m\u001b[0m\n\u001b[1;32m----> 2\u001b[1;33m \u001b[0mplt\u001b[0m\u001b[1;33m.\u001b[0m\u001b[0mfigure\u001b[0m\u001b[1;33m(\u001b[0m\u001b[0mfigsize\u001b[0m\u001b[1;33m=\u001b[0m\u001b[1;33m(\u001b[0m\u001b[1;36m5\u001b[0m\u001b[1;33m,\u001b[0m\u001b[1;36m5\u001b[0m\u001b[1;33m)\u001b[0m\u001b[1;33m)\u001b[0m\u001b[1;33m\u001b[0m\u001b[1;33m\u001b[0m\u001b[0m\n\u001b[0m\u001b[0;32m      3\u001b[0m \u001b[1;31m#plot heat map\u001b[0m\u001b[1;33m\u001b[0m\u001b[1;33m\u001b[0m\u001b[1;33m\u001b[0m\u001b[0m\n\u001b[0;32m      4\u001b[0m \u001b[0mdf\u001b[0m\u001b[1;33m=\u001b[0m\u001b[0mpd\u001b[0m\u001b[1;33m.\u001b[0m\u001b[0mconcat\u001b[0m\u001b[1;33m(\u001b[0m\u001b[1;33m[\u001b[0m\u001b[0mdf_fselection_train\u001b[0m\u001b[1;33m[\u001b[0m\u001b[0mnumerical_variables\u001b[0m\u001b[1;33m]\u001b[0m\u001b[1;33m,\u001b[0m \u001b[0mdf_fselection_train\u001b[0m\u001b[1;33m[\u001b[0m\u001b[1;34m'Income'\u001b[0m\u001b[1;33m]\u001b[0m\u001b[1;33m]\u001b[0m\u001b[1;33m,\u001b[0m \u001b[0maxis\u001b[0m\u001b[1;33m=\u001b[0m\u001b[1;36m1\u001b[0m\u001b[1;33m)\u001b[0m\u001b[1;33m\u001b[0m\u001b[1;33m\u001b[0m\u001b[0m\n\u001b[0;32m      5\u001b[0m \u001b[0msns\u001b[0m\u001b[1;33m.\u001b[0m\u001b[0mheatmap\u001b[0m\u001b[1;33m(\u001b[0m\u001b[0mdf\u001b[0m\u001b[1;33m.\u001b[0m\u001b[0mcorr\u001b[0m\u001b[1;33m(\u001b[0m\u001b[0mmethod\u001b[0m\u001b[1;33m=\u001b[0m\u001b[1;34m'pearson'\u001b[0m\u001b[1;33m)\u001b[0m\u001b[1;33m,\u001b[0m \u001b[0mannot\u001b[0m\u001b[1;33m=\u001b[0m\u001b[1;32mTrue\u001b[0m\u001b[1;33m,\u001b[0m \u001b[0mcmap\u001b[0m\u001b[1;33m=\u001b[0m\u001b[1;34m\"RdYlGn\"\u001b[0m\u001b[1;33m)\u001b[0m\u001b[1;33m\u001b[0m\u001b[1;33m\u001b[0m\u001b[0m\n",
      "\u001b[1;31mNameError\u001b[0m: name 'plt' is not defined"
     ]
    }
   ],
   "source": [
    "#Correlation Matrix with Heatmap\n",
    "plt.figure(figsize=(5,5))\n",
    "#plot heat map\n",
    "df=pd.concat([df_fselection_train[numerical_variables], df_fselection_train['Income']], axis=1)\n",
    "sns.heatmap(df.corr(method='pearson'), annot=True, cmap=\"RdYlGn\")"
   ]
  },
  {
   "cell_type": "markdown",
   "metadata": {},
   "source": [
    "Since none of the numerical features are highly (un)correlated between themselves, we're gonna keep them all!"
   ]
  },
  {
   "cell_type": "markdown",
   "metadata": {},
   "source": [
    "ATENTION: We'll be applying Chi2 and MIC for feature selection of categoricals, coz that's what the scheme from classes says it's good! Apply then some other for the continuous!"
   ]
  },
  {
   "cell_type": "code",
   "execution_count": 39,
   "metadata": {},
   "outputs": [],
   "source": [
    "X = df_fselection_train.drop(\"Income\", axis=1)[categorical_variables]\n",
    "y = df_fselection_train[\"Income\"]"
   ]
  },
  {
   "cell_type": "markdown",
   "metadata": {},
   "source": [
    "1. Chi2 for Categorical Variables"
   ]
  },
  {
   "cell_type": "code",
   "execution_count": 40,
   "metadata": {},
   "outputs": [
    {
     "data": {
      "image/png": "[encoded data removed]",
      "text/plain": [
       "<Figure size 432x288 with 1 Axes>"
      ]
     },
     "metadata": {
      "needs_background": "light"
     },
     "output_type": "display_data"
    }
   ],
   "source": [
    "threshold = 10\n",
    "high_score_features_chi2 = []\n",
    "scores = []\n",
    "names_Chi2 = []\n",
    "\n",
    "feature_scores = SelectKBest(chi2, k=threshold).fit(X,y).scores_\n",
    "\n",
    "high_score_features = []\n",
    "for score, f_name in sorted(zip(feature_scores, X.columns), reverse=True)[:threshold]:\n",
    "        high_score_features_chi2.append(f_name)\n",
    "        scores.append(score)\n",
    "        names_Chi2.append(f_name)\n",
    " \n",
    "plt.bar(names_Chi2, scores)\n",
    "plt.xticks(rotation=90)\n",
    "plt.ylabel('Score')\n",
    "plt.xlabel('Feature')\n",
    "plt.show()"
   ]
  },
  {
   "cell_type": "markdown",
   "metadata": {},
   "source": [
    "2. MIC for Categorical Variables"
   ]
  },
  {
   "cell_type": "code",
   "execution_count": 41,
   "metadata": {},
   "outputs": [
    {
     "data": {
      "image/png": "[encoded data removed]",
      "text/plain": [
       "<Figure size 432x288 with 1 Axes>"
      ]
     },
     "metadata": {
      "needs_background": "light"
     },
     "output_type": "display_data"
    }
   ],
   "source": [
    "#Feature selection applying MIC for categorical variables- saw that, from the scheme of the theoretical class, \n",
    "#that this is the best method for categorical variables and categorical output\n",
    "threshold = 10 #selects number of most relevant features\n",
    "high_score_features_MIC = []\n",
    "scores = []\n",
    "names_MIC = []\n",
    "feature_scores = mutual_info_classif(X, y, random_state=0)\n",
    "for score, f_name in sorted(zip(feature_scores, X.columns), reverse=True)[:threshold]:\n",
    "        high_score_features_MIC.append(f_name)\n",
    "        scores.append(score)\n",
    "        names_MIC.append(f_name)\n",
    "plt.bar(names_MIC, scores)\n",
    "plt.xticks(rotation=90)\n",
    "plt.ylabel('Score')\n",
    "plt.xlabel('Feature')\n",
    "plt.show()"
   ]
  },
  {
   "cell_type": "code",
   "execution_count": 42,
   "metadata": {},
   "outputs": [],
   "source": [
    "###We're gonna use the intersection of the features chosen by both this models!\n",
    "\n",
    "common_categorical_features = list(set(names_Chi2).intersection(list(names_MIC)))\n",
    "\n",
    "features_selected = common_categorical_features + numerical_variables"
   ]
  },
  {
   "cell_type": "code",
   "execution_count": null,
   "metadata": {},
   "outputs": [],
   "source": []
  },
  {
   "cell_type": "markdown",
   "metadata": {},
   "source": [
    "# MODEL TESTING & SELECTION"
   ]
  },
  {
   "cell_type": "markdown",
   "metadata": {},
   "source": [
    "We will divide the training/validation set in a test set as well, to actually make predictions and further check how the model is behaving. We can afford to do this as we have quite a big of a dataset."
   ]
  },
  {
   "cell_type": "code",
   "execution_count": 43,
   "metadata": {},
   "outputs": [],
   "source": [
    "df_train_validation_test = df_fselection_train.copy().drop('Income', axis = 1)[features_selected]\n",
    "df_test = df_fselection_test.copy()[features_selected]"
   ]
  },
  {
   "cell_type": "code",
   "execution_count": 111,
   "metadata": {},
   "outputs": [],
   "source": [
    "X_train_val, X_test, y_train_val, y_test = train_test_split(df_train_validation_test,\n",
    "                                                  df_fselection_train[\"Income\"],\n",
    "                                                  test_size = 0.20,\n",
    "                                                  random_state = 15,\n",
    "                                                  shuffle=True,\n",
    "                                                  stratify=df_fselection_train[\"Income\"])"
   ]
  },
  {
   "cell_type": "code",
   "execution_count": 45,
   "metadata": {},
   "outputs": [],
   "source": [
    "#run desired model\n",
    "def run_model(model_name, X, y):\n",
    "    \n",
    "    ###STANDALONE MODELS\n",
    "    if model_name == 'KNN':\n",
    "        #Manhattan distance, which should work better for high dimensional datasets\n",
    "        #weights to attribute higher weight to closer neighbors; seems to improve score highly\n",
    "        model = KNeighborsClassifier(n_neighbors=10, p = 1, weights='distance').fit(X, y) #\n",
    "    if model_name == 'LR':\n",
    "        model = LogisticRegression().fit(X, y) #\n",
    "    if model_name == 'NB': \n",
    "        model = GaussianNB().fit(X, y)\n",
    "    if model_name == 'BNB': #\n",
    "        model = BernoulliNB().fit(X, y)\n",
    "    if model_name == 'MNB': #\n",
    "        model = MultinomialNB().fit(X, y)\n",
    "    if model_name == 'NN': #\n",
    "        model = MLPClassifier(alpha=0.01, hidden_layer_sizes = (5,5), activation = 'tanh', solver = 'adam', learning_rate = 'adaptive', verbose = 0, learning_rate_init = 0.02, batch_size = 1000, max_iter = 1000).fit(X, y)\n",
    "    if model_name == 'DT':\n",
    "        model = DecisionTreeClassifier(criterion='entropy', max_depth = 14, min_samples_split= 50).fit(X, y) #max_features=6,\n",
    "    if model_name == 'SVM': #\n",
    "        model = svm.SVC(C=0.05, degree=2, gamma='scale', kernel='rbf').fit(X, y)\n",
    "    \n",
    "    ###ENSEMBLES\n",
    "    if model_name == 'RF':\n",
    "        model = RandomForestClassifier(max_depth = 11, random_state = 5, n_estimators=500, min_samples_leaf = 3).fit(X, y) #max_features=6, #max_depth é super imp para reduzir overfitting! #min_samples_lead highly reduces overfitting!\n",
    "    if model_name == 'Bagg_NN':\n",
    "        model = BaggingClassifier(base_estimator = MLPClassifier(alpha=0.01, hidden_layer_sizes = (5,5), activation = 'tanh', solver = 'adam', learning_rate = 'adaptive', verbose = 0, learning_rate_init = 0.02, batch_size = 1000, max_iter = 1000), n_estimators = 5, random_state = 5).fit(X, y)\n",
    "    if model_name == 'AdaBoost':\n",
    "        model = AdaBoostClassifier(n_estimators = 95, learning_rate = 0.8, random_state = 5).fit(X, y) #importante que GSearchCV em DT maximizado!\n",
    "    if model_name == 'GBoost':\n",
    "        model = GradientBoostingClassifier(n_estimators=175, learning_rate=0.1, random_state=15).fit(X, y)\n",
    "    \n",
    "    return model\n"
   ]
  },
  {
   "cell_type": "code",
   "execution_count": 56,
   "metadata": {},
   "outputs": [],
   "source": [
    "#averages scores of each run (for the present model) in each iteration of Repeated 10-fold CV that has been called\n",
    "def avg_score(method,X,y, model_name):\n",
    "    \n",
    "    f1micro_train = []\n",
    "    f1micro_val = []\n",
    "    precision_train = []\n",
    "    precision_val = []\n",
    "    recall_train = []\n",
    "    recall_val = []\n",
    "    timer = []\n",
    "    cm_holder = []\n",
    "    averaged_confusion_matrix=None\n",
    "    \n",
    "    for train_index, val_index in method.split(X,y):\n",
    "        X_train, X_val = X.iloc[train_index], X.iloc[val_index]\n",
    "        y_train, y_val = y.iloc[train_index], y.iloc[val_index]\n",
    "        \n",
    "        begin = time.perf_counter()\n",
    "        model = run_model(model_name, X_train, y_train)\n",
    "        end = time.perf_counter()\n",
    "        \n",
    "        labels_train = model.predict(X_train)\n",
    "        labels_val = model.predict(X_val)\n",
    "        \n",
    "        f1micro_train.append(f1_score(y_train, labels_train, average='micro'))\n",
    "        f1micro_val.append(f1_score(y_val, labels_val, average='micro'))\n",
    "        \n",
    "        precision_train.append(precision_score(y_train, labels_train))\n",
    "        precision_val.append(precision_score(y_val, labels_val))\n",
    "        \n",
    "        recall_train.append(recall_score(y_train, labels_train))\n",
    "        recall_val.append(recall_score(y_val, labels_val))\n",
    "        \n",
    "        timer.append(end-begin)\n",
    "        \n",
    "        if model_name == 'GBoost':\n",
    "            cm_holder.append(confusion_matrix(y_val, labels_val))\n",
    "        \n",
    "    model = run_model(model_name, X,y)\n",
    "    labels_test = model.predict(X_test)\n",
    "    \n",
    "    f1micro_test = f1_score(y_test, labels_test, average='micro')\n",
    "    precision_test = precision_score(y_test, labels_test)\n",
    "    recall_test = recall_score(y_test, labels_test)\n",
    "    \n",
    "    # calculate the average and the std for each measure (accuracy, time and number of iterations)\n",
    "    avg_time = round(np.mean(timer),3)\n",
    "    avg_f1_train = round(np.mean(f1micro_train),3)\n",
    "    avg_f1_val = round(np.mean(f1micro_val),3)\n",
    "    avg_f1_test = round(np.mean(f1micro_test),3)\n",
    "    avg_precision_train = round(np.mean(precision_train),3)\n",
    "    avg_precision_val = round(np.mean(precision_val),3)\n",
    "    avg_precision_test = round(precision_test,3)\n",
    "    avg_recall_train = round(np.mean(recall_train),3)\n",
    "    avg_recall_val = round(np.mean(recall_val),3)\n",
    "    avg_recall_test = round(recall_test,3)\n",
    "    \n",
    "    std_time = round(np.std(timer),3)\n",
    "    std_f1_train = round(np.std(f1micro_train),3)\n",
    "    std_f1_val = round(np.std(f1micro_test),3)\n",
    "    std_precision_train = round(np.std(precision_train),3)\n",
    "    std_precision_val = round(np.std(precision_val),3)\n",
    "    std_recall_train = round(np.std(recall_train),3)\n",
    "    std_recall_val = round(np.std(recall_val),3)\n",
    "    \n",
    "    averaged_confusion_matrix = np.mean(cm_holder, axis = 0).round(2)\n",
    "    \n",
    "    #from sklearn.metrics import cohen_kappa_score\n",
    "    \n",
    "    return str(avg_time) + '+/-' + str(std_time), str(avg_f1_train) + '+/-' + str(std_f1_train), str(avg_f1_val) + '+/-' + str(std_f1_val), str(avg_f1_test), str(avg_precision_train) + '+/-' + str(std_precision_train), str(avg_precision_val) + '+/-' + str(std_precision_val), str(avg_precision_test), str(avg_recall_train) + '+/-' + str(std_recall_train), str(avg_recall_val) + '+/-' + str(std_recall_val), str(avg_recall_test), averaged_confusion_matrix\n"
   ]
  },
  {
   "cell_type": "code",
   "execution_count": 50,
   "metadata": {},
   "outputs": [],
   "source": [
    "###STANDALONE MODELS:\n",
    "\n",
    "#runs each Repeated (10) 10-fold Cross-Validation in all tested models by calling function avg_score and prints resutls with multiple metrics for each\n",
    "\n",
    "method_cv = RepeatedStratifiedKFold(n_splits=10, n_repeats=5, random_state = 15)\n",
    "\n",
    "results_KNN = avg_score(method_cv, X_train_val, y_train_val, 'KNN')\n",
    "results_LR = avg_score(method_cv, X_train_val, y_train_val, 'LR')\n",
    "results_NB = avg_score(method_cv, X_train_val, y_train_val, 'NB')\n",
    "results_BNB = avg_score(method_cv, X_train_val, y_train_val, 'BNB')\n",
    "results_MNB = avg_score(method_cv, X_train_val, y_train_val, 'MNB')\n",
    "results_NN = avg_score(method_cv, X_train_val, y_train_val, 'NN')\n",
    "results_DT = avg_score(method_cv, X_train_val, y_train_val, 'DT')\n",
    "resultsSVM = avg_score(method_cv, X_train_val, y_train_val, 'SVM')\n"
   ]
  },
  {
   "cell_type": "code",
   "execution_count": 52,
   "metadata": {},
   "outputs": [
    {
     "data": {
      "text/html": [
       "<div>\n",
       "<style scoped>\n",
       "    .dataframe tbody tr th:only-of-type {\n",
       "        vertical-align: middle;\n",
       "    }\n",
       "\n",
       "    .dataframe tbody tr th {\n",
       "        vertical-align: top;\n",
       "    }\n",
       "\n",
       "    .dataframe thead th {\n",
       "        text-align: right;\n",
       "    }\n",
       "</style>\n",
       "<table border=\"1\" class=\"dataframe\">\n",
       "  <thead>\n",
       "    <tr style=\"text-align: right;\">\n",
       "      <th></th>\n",
       "      <th>KNN</th>\n",
       "      <th>LR</th>\n",
       "      <th>NB</th>\n",
       "      <th>BNB</th>\n",
       "      <th>MNB</th>\n",
       "      <th>NN</th>\n",
       "      <th>DT</th>\n",
       "      <th>SVM</th>\n",
       "    </tr>\n",
       "  </thead>\n",
       "  <tbody>\n",
       "    <tr>\n",
       "      <th>Train Accuracy (F1 Score micro)</th>\n",
       "      <td>0.944+/-0.001</td>\n",
       "      <td>0.836+/-0.001</td>\n",
       "      <td>0.758+/-0.003</td>\n",
       "      <td>0.721+/-0.001</td>\n",
       "      <td>0.821+/-0.001</td>\n",
       "      <td>0.849+/-0.004</td>\n",
       "      <td>0.868+/-0.002</td>\n",
       "      <td>0.825+/-0.001</td>\n",
       "    </tr>\n",
       "    <tr>\n",
       "      <th>Validation Accuracy (F1 Score micro)</th>\n",
       "      <td>0.828+/-0.0</td>\n",
       "      <td>0.836+/-0.0</td>\n",
       "      <td>0.757+/-0.0</td>\n",
       "      <td>0.721+/-0.0</td>\n",
       "      <td>0.821+/-0.0</td>\n",
       "      <td>0.847+/-0.0</td>\n",
       "      <td>0.851+/-0.0</td>\n",
       "      <td>0.825+/-0.0</td>\n",
       "    </tr>\n",
       "    <tr>\n",
       "      <th>Test Accuracy (F1 Score micro)</th>\n",
       "      <td>0.835</td>\n",
       "      <td>0.842</td>\n",
       "      <td>0.771</td>\n",
       "      <td>0.728</td>\n",
       "      <td>0.829</td>\n",
       "      <td>0.853</td>\n",
       "      <td>0.861</td>\n",
       "      <td>0.829</td>\n",
       "    </tr>\n",
       "    <tr>\n",
       "      <th>Precision Train</th>\n",
       "      <td>0.952+/-0.003</td>\n",
       "      <td>0.703+/-0.002</td>\n",
       "      <td>0.494+/-0.003</td>\n",
       "      <td>0.451+/-0.001</td>\n",
       "      <td>0.651+/-0.003</td>\n",
       "      <td>0.742+/-0.027</td>\n",
       "      <td>0.808+/-0.015</td>\n",
       "      <td>0.665+/-0.003</td>\n",
       "    </tr>\n",
       "    <tr>\n",
       "      <th>Precision Validation</th>\n",
       "      <td>0.666+/-0.025</td>\n",
       "      <td>0.702+/-0.025</td>\n",
       "      <td>0.493+/-0.012</td>\n",
       "      <td>0.451+/-0.01</td>\n",
       "      <td>0.651+/-0.025</td>\n",
       "      <td>0.738+/-0.036</td>\n",
       "      <td>0.759+/-0.031</td>\n",
       "      <td>0.664+/-0.024</td>\n",
       "    </tr>\n",
       "    <tr>\n",
       "      <th>Precision Test</th>\n",
       "      <td>0.678</td>\n",
       "      <td>0.72</td>\n",
       "      <td>0.51</td>\n",
       "      <td>0.458</td>\n",
       "      <td>0.673</td>\n",
       "      <td>0.774</td>\n",
       "      <td>0.78</td>\n",
       "      <td>0.677</td>\n",
       "    </tr>\n",
       "    <tr>\n",
       "      <th>Recall Train</th>\n",
       "      <td>0.803+/-0.004</td>\n",
       "      <td>0.535+/-0.003</td>\n",
       "      <td>0.842+/-0.003</td>\n",
       "      <td>0.808+/-0.002</td>\n",
       "      <td>0.528+/-0.002</td>\n",
       "      <td>0.56+/-0.044</td>\n",
       "      <td>0.584+/-0.021</td>\n",
       "      <td>0.527+/-0.002</td>\n",
       "    </tr>\n",
       "    <tr>\n",
       "      <th>Recall Validation</th>\n",
       "      <td>0.552+/-0.024</td>\n",
       "      <td>0.534+/-0.022</td>\n",
       "      <td>0.841+/-0.015</td>\n",
       "      <td>0.808+/-0.017</td>\n",
       "      <td>0.528+/-0.019</td>\n",
       "      <td>0.554+/-0.046</td>\n",
       "      <td>0.548+/-0.025</td>\n",
       "      <td>0.527+/-0.02</td>\n",
       "    </tr>\n",
       "    <tr>\n",
       "      <th>Recall Test</th>\n",
       "      <td>0.576</td>\n",
       "      <td>0.543</td>\n",
       "      <td>0.858</td>\n",
       "      <td>0.815</td>\n",
       "      <td>0.54</td>\n",
       "      <td>0.537</td>\n",
       "      <td>0.576</td>\n",
       "      <td>0.536</td>\n",
       "    </tr>\n",
       "    <tr>\n",
       "      <th>Time</th>\n",
       "      <td>0.243+/-0.014</td>\n",
       "      <td>0.044+/-0.004</td>\n",
       "      <td>0.005+/-0.001</td>\n",
       "      <td>0.005+/-0.0</td>\n",
       "      <td>0.004+/-0.001</td>\n",
       "      <td>1.455+/-0.458</td>\n",
       "      <td>0.021+/-0.002</td>\n",
       "      <td>3.173+/-0.198</td>\n",
       "    </tr>\n",
       "  </tbody>\n",
       "</table>\n",
       "</div>"
      ],
      "text/plain": [
       "                                                KNN             LR  \\\n",
       "Train Accuracy (F1 Score micro)       0.944+/-0.001  0.836+/-0.001   \n",
       "Validation Accuracy (F1 Score micro)    0.828+/-0.0    0.836+/-0.0   \n",
       "Test Accuracy (F1 Score micro)                0.835          0.842   \n",
       "Precision Train                       0.952+/-0.003  0.703+/-0.002   \n",
       "Precision Validation                  0.666+/-0.025  0.702+/-0.025   \n",
       "Precision Test                                0.678           0.72   \n",
       "Recall Train                          0.803+/-0.004  0.535+/-0.003   \n",
       "Recall Validation                     0.552+/-0.024  0.534+/-0.022   \n",
       "Recall Test                                   0.576          0.543   \n",
       "Time                                  0.243+/-0.014  0.044+/-0.004   \n",
       "\n",
       "                                                 NB            BNB  \\\n",
       "Train Accuracy (F1 Score micro)       0.758+/-0.003  0.721+/-0.001   \n",
       "Validation Accuracy (F1 Score micro)    0.757+/-0.0    0.721+/-0.0   \n",
       "Test Accuracy (F1 Score micro)                0.771          0.728   \n",
       "Precision Train                       0.494+/-0.003  0.451+/-0.001   \n",
       "Precision Validation                  0.493+/-0.012   0.451+/-0.01   \n",
       "Precision Test                                 0.51          0.458   \n",
       "Recall Train                          0.842+/-0.003  0.808+/-0.002   \n",
       "Recall Validation                     0.841+/-0.015  0.808+/-0.017   \n",
       "Recall Test                                   0.858          0.815   \n",
       "Time                                  0.005+/-0.001    0.005+/-0.0   \n",
       "\n",
       "                                                MNB             NN  \\\n",
       "Train Accuracy (F1 Score micro)       0.821+/-0.001  0.849+/-0.004   \n",
       "Validation Accuracy (F1 Score micro)    0.821+/-0.0    0.847+/-0.0   \n",
       "Test Accuracy (F1 Score micro)                0.829          0.853   \n",
       "Precision Train                       0.651+/-0.003  0.742+/-0.027   \n",
       "Precision Validation                  0.651+/-0.025  0.738+/-0.036   \n",
       "Precision Test                                0.673          0.774   \n",
       "Recall Train                          0.528+/-0.002   0.56+/-0.044   \n",
       "Recall Validation                     0.528+/-0.019  0.554+/-0.046   \n",
       "Recall Test                                    0.54          0.537   \n",
       "Time                                  0.004+/-0.001  1.455+/-0.458   \n",
       "\n",
       "                                                 DT            SVM  \n",
       "Train Accuracy (F1 Score micro)       0.868+/-0.002  0.825+/-0.001  \n",
       "Validation Accuracy (F1 Score micro)    0.851+/-0.0    0.825+/-0.0  \n",
       "Test Accuracy (F1 Score micro)                0.861          0.829  \n",
       "Precision Train                       0.808+/-0.015  0.665+/-0.003  \n",
       "Precision Validation                  0.759+/-0.031  0.664+/-0.024  \n",
       "Precision Test                                 0.78          0.677  \n",
       "Recall Train                          0.584+/-0.021  0.527+/-0.002  \n",
       "Recall Validation                     0.548+/-0.025   0.527+/-0.02  \n",
       "Recall Test                                   0.576          0.536  \n",
       "Time                                  0.021+/-0.002  3.173+/-0.198  "
      ]
     },
     "execution_count": 52,
     "metadata": {},
     "output_type": "execute_result"
    }
   ],
   "source": [
    "results_models = [results_KNN, results_LR, results_NB, results_BNB, results_MNB, results_NN, results_DT, resultsSVM]\n",
    "\n",
    "f1micro_train = []\n",
    "f1micro_val = []\n",
    "f1micro_test = []\n",
    "\n",
    "precision_train = []\n",
    "precision_val = []\n",
    "precision_test = []\n",
    "\n",
    "recall_train = []\n",
    "recall_val = []\n",
    "recall_test = []\n",
    "\n",
    "times = []\n",
    "\n",
    "#organizes data for futher plotting\n",
    "for i, model in enumerate(results_models):\n",
    "    \n",
    "    f1micro_train.append(results_models[i][1])\n",
    "    f1micro_val.append(results_models[i][2])\n",
    "    f1micro_test.append(results_models[i][3])\n",
    "    \n",
    "    precision_train.append(results_models[i][4])\n",
    "    precision_val.append(results_models[i][5])\n",
    "    precision_test.append(results_models[i][6])\n",
    "    \n",
    "    recall_train.append(results_models[i][7])\n",
    "    recall_val.append(results_models[i][8])\n",
    "    recall_test.append(results_models[i][9])\n",
    "    \n",
    "    times.append(results_models[i][0])\n",
    "    \n",
    "results = [f1micro_train, f1micro_val, f1micro_test, precision_train, precision_val, precision_test, recall_train, recall_val, recall_test, times]\n",
    "\n",
    "df = pd.DataFrame(results, index = ['Train Accuracy (F1 Score micro)', 'Validation Accuracy (F1 Score micro)', 'Test Accuracy (F1 Score micro)', 'Precision Train', 'Precision Validation', 'Precision Test', 'Recall Train', 'Recall Validation', 'Recall Test', 'Time'], columns = ['KNN', 'LR', 'NB', 'BNB', 'MNB', 'NN', 'DT', 'SVM'])\n",
    "\n",
    "df"
   ]
  },
  {
   "cell_type": "code",
   "execution_count": null,
   "metadata": {},
   "outputs": [],
   "source": [
    "models = ['KNN', 'LR', 'NB', 'BNB', 'MNB', 'NN', 'DT', 'SVM']\n",
    "'''\n",
    "def plt_bar(models, f1micro_train, f1micro_val, f1micro_test):\n",
    "    \n",
    "    #Creates a figure and a set of subplots\n",
    "    fig, ax = plt.subplots(figsize = (10, 5))\n",
    "\n",
    "    #sets style of the plot to increase readibility\n",
    "    sns.set_style(style=\"whitegrid\")\n",
    "\n",
    "    #set width of bar\n",
    "    barwidth = 0.3\n",
    "\n",
    "    #set position of bar on X axis\n",
    "    pos_train = np.arange(len(f1micro_test))\n",
    "    pos_val = np.arange(len(f1micro_test))+0.3\n",
    "    pos_test = np.arange(len(f1micro_test))+0.6\n",
    "\n",
    "    #makes the plot\n",
    "    plt.bar(pos_train, f1micro_train, color='dodgerblue', width=barwidth, edgecolor='white', label='Train')\n",
    "    plt.bar(pos_val, f1micro_val, color='steelblue', width=barwidth, edgecolor='white', label='Validation')\n",
    "    plt.bar(pos_test, f1micro_test, color='skyblue', width=barwidth, edgecolor='white', label='Validation')\n",
    "\n",
    "    #sets x, y labels\n",
    "    ax.set(xlabel = 'Model', ylabel = 'Accuracy')\n",
    "\n",
    "    #sets x ticks locations and designation\n",
    "    ax.set_xticks((pos_train+pos_val+pos_test)/3)\n",
    "    ax.set_xticklabels(models, rotation='vertical')\n",
    "\n",
    "    #personalizes yticks to inrease readibility of data in the plot\n",
    "    ax.set_yticks(np.arange(0, 1, 0.1))\n",
    "\n",
    "    #ads title to the plot\n",
    "    plt.title('10-fold Repeated Cross-Validation Results', fontsize = 14)\n",
    "\n",
    "    #removes box to make the plot prettier\n",
    "    plt.box(on=None)\n",
    "\n",
    "    #Creates (pretty) legend\n",
    "    plt.legend(frameon=False)\n",
    "\n",
    "    #shows plot\n",
    "    plt.show()\n",
    "    \n",
    "plt_bar(models, f1micro_train, f1micro_val, f1micro_test)'''"
   ]
  },
  {
   "cell_type": "code",
   "execution_count": 53,
   "metadata": {
    "scrolled": true
   },
   "outputs": [
    {
     "data": {
      "image/png": "[encoded data removed]",
      "text/plain": [
       "<Figure size 432x288 with 1 Axes>"
      ]
     },
     "metadata": {
      "needs_background": "light"
     },
     "output_type": "display_data"
    },
    {
     "data": {
      "image/png": "[encoded data removed]",
      "text/plain": [
       "<Figure size 432x288 with 1 Axes>"
      ]
     },
     "metadata": {},
     "output_type": "display_data"
    }
   ],
   "source": [
    "plt.figure()\n",
    "\n",
    "# Add models to list of models to incorporte in ROC curve\n",
    "models = [{'label': 'KNN', 'model': run_model('KNN', X_train_val, y_train_val),},\n",
    "          {'label': 'LR', 'model': run_model('LR', X_train_val, y_train_val),},\n",
    "          {'label': 'NB','model': run_model('NB', X_train_val, y_train_val),},\n",
    "          {'label': 'BNB', 'model': run_model('BNB', X_train_val, y_train_val),},\n",
    "          {'label': 'MNB', 'model': run_model('MNB', X_train_val, y_train_val),},\n",
    "          {'label': 'NN', 'model': run_model('NN', X_train_val, y_train_val),},\n",
    "          {'label': 'DT', 'model': run_model('DT', X_train_val, y_train_val),},] \n",
    "            #SVM not included coz there's no probs!\n",
    "\n",
    "    \n",
    "def plot_roc_pr(models, X, y):  \n",
    "    sns.set_style(style=\"whitegrid\")\n",
    "    # Below for loop iterates through your models list\n",
    "    for m in models:\n",
    "        model = m['model']\n",
    "        y_pred=model.predict(X) # predict the test data\n",
    "    #Compute False postive rate, and True positive rate\n",
    "        fpr, tpr, _ = roc_curve(y, model.predict_proba(X)[:,1])\n",
    "    #Calculate AUC\n",
    "        auc = roc_auc_score(y,model.predict_proba(X)[:,1])\n",
    "    #Plot\n",
    "        plt.plot(fpr, tpr, label='%s ROC (area = %0.4f)' % (m['label'], auc))\n",
    "    #Makes it pretty!\n",
    "    #plt.plot([0, 1], [0, 1],'r--')\n",
    "    plt.xlim([0.0, 1.0])\n",
    "    plt.ylim([0.0, 1.05])\n",
    "    plt.xlabel('Specificity (False Positive Rate)')\n",
    "    plt.ylabel('Sensitivity (True Positive Rate)')\n",
    "    plt.title('ROC Curve Test')\n",
    "    plt.legend(loc=\"lower right\", frameon=False)\n",
    "    plt.show()\n",
    "\n",
    "    \n",
    "    # Below for loop iterates through your models list\n",
    "    for m in models:\n",
    "        model = m['model']\n",
    "        y_pred=model.predict(X) # predict the test data\n",
    "    #Compute Precision and Recall\n",
    "        precision, recall, _ = precision_recall_curve(y, model.predict_proba(X)[:,1])\n",
    "    #Calculate AP\n",
    "        ap = average_precision_score(y, model.predict_proba(X)[:,1])\n",
    "    #Plot\n",
    "        plt.plot(recall, precision, label='%s AP (area = %0.4f)' % (m['label'], ap))\n",
    "    #Makes it pretty!\n",
    "    plt.xlim([-0.05, 1.05])\n",
    "    plt.ylim([0.0, 1.05])\n",
    "    plt.xlabel('Recall (Positive Predictive Value)')\n",
    "    plt.ylabel('Precision (True Positive Rate)')\n",
    "    plt.title('Precision-Recall Curve Test')\n",
    "    plt.legend(loc=\"lower left\", frameon=False)\n",
    "    plt.show()\n",
    "\n",
    "plot_roc_pr(models, X_test, y_test)"
   ]
  },
  {
   "cell_type": "markdown",
   "metadata": {},
   "source": [
    "Given the fact that Decision Trees were a standalone model that yielded the best results (along with Neural Networks and Logistic Regression), we decided to try out a few ensemble methods that have Decision Trees as base learners:"
   ]
  },
  {
   "cell_type": "code",
   "execution_count": 57,
   "metadata": {},
   "outputs": [],
   "source": [
    "method_cv = RepeatedStratifiedKFold(n_splits=10, n_repeats=5, random_state = 15)\n",
    "\n",
    "results_Bagg_NN = avg_score(method_cv, X_train_val, y_train_val, 'Bagg_NN')\n",
    "results_RF = avg_score(method_cv, X_train_val, y_train_val, 'RF')\n",
    "results_AdaBoost = avg_score(method_cv, X_train_val, y_train_val, 'AdaBoost')\n",
    "results_GBoost = avg_score(method_cv, X_train_val, y_train_val, 'GBoost')\n"
   ]
  },
  {
   "cell_type": "code",
   "execution_count": 60,
   "metadata": {},
   "outputs": [
    {
     "name": "stdout",
     "output_type": "stream",
     "text": [
      "Averaged Confusion Matrix for GBoost:\n",
      " [[1294.94   72.16]\n",
      " [ 172.96  251.94]]\n"
     ]
    },
    {
     "data": {
      "text/html": [
       "<div>\n",
       "<style scoped>\n",
       "    .dataframe tbody tr th:only-of-type {\n",
       "        vertical-align: middle;\n",
       "    }\n",
       "\n",
       "    .dataframe tbody tr th {\n",
       "        vertical-align: top;\n",
       "    }\n",
       "\n",
       "    .dataframe thead th {\n",
       "        text-align: right;\n",
       "    }\n",
       "</style>\n",
       "<table border=\"1\" class=\"dataframe\">\n",
       "  <thead>\n",
       "    <tr style=\"text-align: right;\">\n",
       "      <th></th>\n",
       "      <th>Bagg_NN</th>\n",
       "      <th>RF</th>\n",
       "      <th>AdaBoost</th>\n",
       "      <th>GBoost</th>\n",
       "    </tr>\n",
       "  </thead>\n",
       "  <tbody>\n",
       "    <tr>\n",
       "      <th>Train Accuracy (F1 Score micro)</th>\n",
       "      <td>0.853+/-0.002</td>\n",
       "      <td>0.87+/-0.001</td>\n",
       "      <td>0.858+/-0.001</td>\n",
       "      <td>0.869+/-0.001</td>\n",
       "    </tr>\n",
       "    <tr>\n",
       "      <th>Validation Accuracy (F1 Score micro)</th>\n",
       "      <td>0.851+/-0.0</td>\n",
       "      <td>0.859+/-0.0</td>\n",
       "      <td>0.856+/-0.0</td>\n",
       "      <td>0.863+/-0.0</td>\n",
       "    </tr>\n",
       "    <tr>\n",
       "      <th>Test Accuracy (F1 Score micro)</th>\n",
       "      <td>0.855</td>\n",
       "      <td>0.862</td>\n",
       "      <td>0.862</td>\n",
       "      <td>0.869</td>\n",
       "    </tr>\n",
       "    <tr>\n",
       "      <th>Precision Train</th>\n",
       "      <td>0.743+/-0.012</td>\n",
       "      <td>0.819+/-0.004</td>\n",
       "      <td>0.767+/-0.004</td>\n",
       "      <td>0.794+/-0.003</td>\n",
       "    </tr>\n",
       "    <tr>\n",
       "      <th>Precision Validation</th>\n",
       "      <td>0.738+/-0.027</td>\n",
       "      <td>0.787+/-0.026</td>\n",
       "      <td>0.764+/-0.022</td>\n",
       "      <td>0.778+/-0.024</td>\n",
       "    </tr>\n",
       "    <tr>\n",
       "      <th>Precision Test</th>\n",
       "      <td>0.76</td>\n",
       "      <td>0.807</td>\n",
       "      <td>0.786</td>\n",
       "      <td>0.801</td>\n",
       "    </tr>\n",
       "    <tr>\n",
       "      <th>Recall Train</th>\n",
       "      <td>0.581+/-0.016</td>\n",
       "      <td>0.579+/-0.006</td>\n",
       "      <td>0.574+/-0.005</td>\n",
       "      <td>0.603+/-0.004</td>\n",
       "    </tr>\n",
       "    <tr>\n",
       "      <th>Recall Validation</th>\n",
       "      <td>0.577+/-0.032</td>\n",
       "      <td>0.554+/-0.023</td>\n",
       "      <td>0.572+/-0.024</td>\n",
       "      <td>0.593+/-0.025</td>\n",
       "    </tr>\n",
       "    <tr>\n",
       "      <th>Recall Test</th>\n",
       "      <td>0.566</td>\n",
       "      <td>0.55</td>\n",
       "      <td>0.577</td>\n",
       "      <td>0.598</td>\n",
       "    </tr>\n",
       "    <tr>\n",
       "      <th>Time</th>\n",
       "      <td>7.249+/-1.35</td>\n",
       "      <td>2.26+/-0.041</td>\n",
       "      <td>0.462+/-0.013</td>\n",
       "      <td>1.162+/-0.016</td>\n",
       "    </tr>\n",
       "  </tbody>\n",
       "</table>\n",
       "</div>"
      ],
      "text/plain": [
       "                                            Bagg_NN             RF  \\\n",
       "Train Accuracy (F1 Score micro)       0.853+/-0.002   0.87+/-0.001   \n",
       "Validation Accuracy (F1 Score micro)    0.851+/-0.0    0.859+/-0.0   \n",
       "Test Accuracy (F1 Score micro)                0.855          0.862   \n",
       "Precision Train                       0.743+/-0.012  0.819+/-0.004   \n",
       "Precision Validation                  0.738+/-0.027  0.787+/-0.026   \n",
       "Precision Test                                 0.76          0.807   \n",
       "Recall Train                          0.581+/-0.016  0.579+/-0.006   \n",
       "Recall Validation                     0.577+/-0.032  0.554+/-0.023   \n",
       "Recall Test                                   0.566           0.55   \n",
       "Time                                   7.249+/-1.35   2.26+/-0.041   \n",
       "\n",
       "                                           AdaBoost         GBoost  \n",
       "Train Accuracy (F1 Score micro)       0.858+/-0.001  0.869+/-0.001  \n",
       "Validation Accuracy (F1 Score micro)    0.856+/-0.0    0.863+/-0.0  \n",
       "Test Accuracy (F1 Score micro)                0.862          0.869  \n",
       "Precision Train                       0.767+/-0.004  0.794+/-0.003  \n",
       "Precision Validation                  0.764+/-0.022  0.778+/-0.024  \n",
       "Precision Test                                0.786          0.801  \n",
       "Recall Train                          0.574+/-0.005  0.603+/-0.004  \n",
       "Recall Validation                     0.572+/-0.024  0.593+/-0.025  \n",
       "Recall Test                                   0.577          0.598  \n",
       "Time                                  0.462+/-0.013  1.162+/-0.016  "
      ]
     },
     "execution_count": 60,
     "metadata": {},
     "output_type": "execute_result"
    }
   ],
   "source": [
    "results_models = [results_Bagg_NN, results_RF, results_AdaBoost, results_GBoost]\n",
    "\n",
    "f1micro_train = []\n",
    "f1micro_val = []\n",
    "f1micro_test = []\n",
    "\n",
    "precision_train = []\n",
    "precision_val = []\n",
    "precision_test = []\n",
    "\n",
    "recall_train = []\n",
    "recall_val = []\n",
    "recall_test = []\n",
    "\n",
    "times = []\n",
    "\n",
    "#organizes data for futher plotting\n",
    "for i, model in enumerate(results_models):\n",
    "    \n",
    "    f1micro_train.append(results_models[i][1])\n",
    "    f1micro_val.append(results_models[i][2])\n",
    "    f1micro_test.append(results_models[i][3])\n",
    "    \n",
    "    precision_train.append(results_models[i][4])\n",
    "    precision_val.append(results_models[i][5])\n",
    "    precision_test.append(results_models[i][6])\n",
    "    \n",
    "    recall_train.append(results_models[i][7])\n",
    "    recall_val.append(results_models[i][8])\n",
    "    recall_test.append(results_models[i][9])\n",
    "    \n",
    "    times.append(results_models[i][0])\n",
    "    \n",
    "results = [f1micro_train, f1micro_val, f1micro_test, precision_train, precision_val, precision_test, recall_train, recall_val, recall_test, times]\n",
    "\n",
    "df = pd.DataFrame(results, index = ['Train Accuracy (F1 Score micro)', 'Validation Accuracy (F1 Score micro)', 'Test Accuracy (F1 Score micro)', 'Precision Train', 'Precision Validation', 'Precision Test', 'Recall Train', 'Recall Validation', 'Recall Test', 'Time'], columns = ['Bagg_NN', 'RF', 'AdaBoost', 'GBoost'])\n",
    "\n",
    "print('Averaged Confusion Matrix for GBoost:\\n', results_models[3][10])\n",
    "\n",
    "df "
   ]
  },
  {
   "cell_type": "code",
   "execution_count": 61,
   "metadata": {},
   "outputs": [],
   "source": [
    "models = ['Bagg NN', 'RF', 'AdaBoost', 'GBoost']\n",
    "\n",
    "#plt_bar(models, f1micro_train, f1micro_val, f1micro_test)"
   ]
  },
  {
   "cell_type": "code",
   "execution_count": 62,
   "metadata": {},
   "outputs": [
    {
     "data": {
      "image/png": "[encoded data removed]",
      "text/plain": [
       "<Figure size 432x288 with 1 Axes>"
      ]
     },
     "metadata": {},
     "output_type": "display_data"
    },
    {
     "data": {
      "image/png": "[encoded data removed]",
      "text/plain": [
       "<Figure size 432x288 with 1 Axes>"
      ]
     },
     "metadata": {},
     "output_type": "display_data"
    }
   ],
   "source": [
    "# Add models to list of models to incorporte in ROC curve\n",
    "models = [{'label': 'Bagging NN', 'model': run_model('Bagg_NN', X_train_val, y_train_val),},\n",
    "          {'label': 'RF', 'model': run_model('RF', X_train_val, y_train_val),},\n",
    "          {'label': 'AdaBoost','model': run_model('AdaBoost', X_train_val, y_train_val),},\n",
    "          {'label': 'GBoost', 'model': run_model('GBoost', X_train_val, y_train_val),}]\n",
    "\n",
    "\n",
    "plot_roc_pr(models, X_test, y_test)"
   ]
  },
  {
   "cell_type": "markdown",
   "metadata": {},
   "source": [
    "In an attempt to try to get a better performing model, we next tried a particular class of ensemble methods: stacking methods. Here, we tried a few combination of algorithms, with different combinations of strong and weak learners:"
   ]
  },
  {
   "cell_type": "code",
   "execution_count": 97,
   "metadata": {},
   "outputs": [],
   "source": [
    "# get a stacking ensemble of models\n",
    "def get_stacking(model_name, X, y):\n",
    "\n",
    "    level0 = list()\n",
    "    \n",
    "    if 'LR' in model_name:\n",
    "        base_learner = LogisticRegression()\n",
    "        level0.append(('LR', base_learner))\n",
    "    if 'NB' in model_name:\n",
    "        base_learner = GaussianNB()\n",
    "        level0.append(('NB', base_learner))\n",
    "    if 'BNB' in model_name:\n",
    "        base_learner = BernoulliNB()\n",
    "        level0.append(('BNB', base_learner))\n",
    "    if 'MNB' in model_name:\n",
    "        base_learner = MultinomialNB()\n",
    "        level0.append(('MNB', base_learner))\n",
    "    if 'NN' in model_name:\n",
    "        base_learner = MLPClassifier(alpha=0.01, hidden_layer_sizes = (5,5), activation = 'tanh', solver = 'adam', learning_rate = 'adaptive', verbose = 0, learning_rate_init = 0.02, batch_size = 1000, max_iter = 1000)\n",
    "        level0.append(('NN', base_learner))\n",
    "    if 'DT' in model_name:\n",
    "        base_learner = DecisionTreeClassifier(criterion='entropy', max_depth = 14, min_samples_split= 50)\n",
    "        level0.append(('DT', base_learner))\n",
    "    if 'SVM' in model_name:\n",
    "        base_learner = svm.SVC(C=0.05, degree=2, gamma='scale', kernel='rbf')\n",
    "        level0.append(('SVM', base_learner))\n",
    "    if 'RF' in model_name:\n",
    "        base_learner = RandomForestClassifier(max_depth = 11, random_state = 5, n_estimators=500, min_samples_leaf = 3) #max_features=6, #max_depth é super imp para reduzir overfitting! #min_samples_lead highly reduces overfitting!\n",
    "        level0.append(('RF', base_learner))\n",
    "    if 'AdaBoost' in model_name:\n",
    "        base_learner = AdaBoostClassifier(n_estimators = 95, learning_rate = 0.8, random_state = 5)\n",
    "        level0.append(('AdaBoost', base_learner))\n",
    "    if 'GBoost' in model_name:\n",
    "        base_learner = GradientBoostingClassifier(n_estimators=175, learning_rate=0.1, random_state=15)\n",
    "        level0.append(('GBoost', base_learner))\n",
    "    \n",
    "    \n",
    "    #defines meta learner model\n",
    "    level1 = LogisticRegression()\n",
    "    \n",
    "    #stacking ensemble\n",
    "    model = StackingClassifier(estimators=level0, final_estimator=level1)\n",
    "    model = model.fit(X, y)\n",
    "    \n",
    "    return model"
   ]
  },
  {
   "cell_type": "code",
   "execution_count": 108,
   "metadata": {},
   "outputs": [],
   "source": [
    "def avg_score(method,X,y, model_name):\n",
    "    \n",
    "    f1micro_train = []\n",
    "    f1micro_val = []\n",
    "    \n",
    "    precision_train = []\n",
    "    precision_val = []\n",
    "    \n",
    "    recall_train = []\n",
    "    recall_val = []\n",
    "    timer = []\n",
    "    cm_holder = []\n",
    "    \n",
    "    for train_index, val_index in method.split(X,y):\n",
    "        X_train, X_val = X.iloc[train_index], X.iloc[val_index]\n",
    "        y_train, y_val = y.iloc[train_index], y.iloc[val_index]\n",
    "        \n",
    "        begin = time.perf_counter()\n",
    "        model = get_stacking(model_name, X_train, y_train)\n",
    "        end = time.perf_counter()\n",
    "        \n",
    "        labels_train = model.predict(X_train)\n",
    "        labels_val = model.predict(X_val)\n",
    "        \n",
    "        f1micro_train.append(f1_score(y_train, labels_train, average='micro'))\n",
    "        f1micro_val.append(f1_score(y_val, labels_val, average='micro'))\n",
    "        \n",
    "        precision_train.append(precision_score(y_train, labels_train))\n",
    "        precision_val.append(precision_score(y_val, labels_val))\n",
    "        \n",
    "        recall_train.append(recall_score(y_train, labels_train))\n",
    "        recall_val.append(recall_score(y_val, labels_val))\n",
    "        \n",
    "        timer.append(end-begin)\n",
    "        \n",
    "        if model_name == ('GBoost', 'NB'):\n",
    "            cm_holder.append(confusion_matrix(y_val, labels_val)) #gets averaged confusion matrix for this algorithm, for comparison w/ GBoost alone\n",
    "        \n",
    "    model = get_stacking(model_name, X, y)\n",
    "    labels_test = model.predict(X_test)\n",
    "    \n",
    "    f1micro_test = f1_score(y_test, labels_test, average='micro')\n",
    "    precision_test = precision_score(y_test, labels_test)\n",
    "    recall_test = recall_score(y_test, labels_test)\n",
    "    \n",
    "    # calculate the average and the std for each measure (accuracy, time and number of iterations)\n",
    "    avg_time = round(np.mean(timer),3)\n",
    "    avg_f1_train = round(np.mean(f1micro_train),3)\n",
    "    avg_f1_val = round(np.mean(f1micro_val),3)\n",
    "    avg_f1_test = round(np.mean(f1micro_test),3)\n",
    "    avg_precision_train = round(np.mean(precision_train),3)\n",
    "    avg_precision_val = round(np.mean(precision_val),3)\n",
    "    avg_precision_test = round(precision_test,3)\n",
    "    avg_recall_train = round(np.mean(recall_train),3)\n",
    "    avg_recall_val = round(np.mean(recall_val),3)\n",
    "    avg_recall_test = round(recall_test,3)\n",
    "    \n",
    "    std_time = round(np.std(timer),3)\n",
    "    std_f1_train = round(np.std(f1micro_train),3)\n",
    "    std_f1_val = round(np.std(f1micro_test),3)\n",
    "    std_precision_train = round(np.std(precision_train),3)\n",
    "    std_precision_val = round(np.std(precision_val),3)\n",
    "    std_recall_train = round(np.std(recall_train),3)\n",
    "    std_recall_val = round(np.std(recall_val),3)\n",
    "    \n",
    "    averaged_confusion_matrix = np.mean(cm_holder, axis = 0).round(2)\n",
    "    \n",
    "    #from sklearn.metrics import cohen_kappa_score\n",
    "    \n",
    "    return str(avg_time) + '+/-' + str(std_time), str(avg_f1_train) + '+/-' + str(std_f1_train), str(avg_f1_val) + '+/-' + str(std_f1_val), str(avg_f1_test), str(avg_precision_train) + '+/-' + str(std_precision_train), str(avg_precision_val) + '+/-' + str(std_precision_val), str(avg_precision_test), str(avg_recall_train) + '+/-' + str(std_recall_train), str(avg_recall_val) + '+/-' + str(std_recall_val), str(avg_recall_test), averaged_confusion_matrix\n"
   ]
  },
  {
   "cell_type": "code",
   "execution_count": 99,
   "metadata": {},
   "outputs": [
    {
     "name": "stdout",
     "output_type": "stream",
     "text": [
      "model1\n",
      "model6\n",
      "model7\n",
      "model9\n"
     ]
    }
   ],
   "source": [
    "method_cv = RepeatedStratifiedKFold(n_splits=5, n_repeats=5, random_state = 15)\n",
    "\n",
    "print('model1')\n",
    "model1 = avg_score(method_cv, X_train_val, y_train_val, ('RF', 'NN')) ###\n",
    "#print('model2')\n",
    "#model2 = avg_score(method_cv, X_train_val, y_train_val, ('RF', 'NB'))\n",
    "#print('model3')\n",
    "#model3 = avg_score(method_cv, X_train_val, y_train_val, ('NN', 'NB'))\n",
    "#print('model4')\n",
    "#model4 = avg_score(method_cv, X_train_val, y_train_val, ('RF', 'SVM'))\n",
    "#print('model5')\n",
    "#model5 = avg_score(method_cv, X_train_val, y_train_val, ('NB', 'SVM'))\n",
    "print('model6')\n",
    "model6 = avg_score(method_cv, X_train_val, y_train_val,('GBoost', 'NB')) ###\n",
    "print('model7')\n",
    "model7 = avg_score(method_cv, X_train_val, y_train_val, ('GBoost', 'SVM')) ###\n",
    "print('model9')\n",
    "model9 = avg_score(method_cv, X_train_val, y_train_val, ('Gboost', 'NN')) ###\n",
    "#print('model10')\n",
    "#model10 = avg_score(method_cv, X_train_val, y_train_val, ('MNB', 'NB', 'DT'))\n",
    "#print('model11')\n",
    "#model11 = avg_score(method_cv, X_train_val, y_train_val, ('GBoost', 'LR'))\n",
    "#print('model12')\n",
    "#model12 = avg_score(method_cv, X_train_val, y_train_val, ('GBoost', 'AdaBoost'))\n",
    "#print('model13')\n",
    "#model13 = avg_score(method_cv, X_train_val, y_train_val, ('GBoost', 'AdaBoost', 'NB'))\n",
    "#print('model14')\n",
    "#model14 = avg_score(method_cv, X_train_val, y_train_val, ('RF', 'NB', 'SVM'))\n",
    "##print('model15')\n",
    "##model15 = avg_score(method_cv, X_train_val, y_train_val, ('DT', 'NB', 'SVM'))\n",
    "#print('model16')\n",
    "#model17 = avg_score(method_cv, X_train_val, y_train_val, ('LR', 'SVM')) #MT BAIXO\n",
    "#print('model18')\n",
    "#model18 = avg_score(method_cv, X_train_val, y_train_val, ('LR', 'NB')) #MT BAIXO\n",
    "#print('model19')\n",
    "#model19 = avg_score(method_cv, X_train_val, y_train_val, ('NB', 'LR', 'SVM')) #"
   ]
  },
  {
   "cell_type": "code",
   "execution_count": 100,
   "metadata": {},
   "outputs": [
    {
     "name": "stdout",
     "output_type": "stream",
     "text": [
      "Averaged Confusion Matrix for Stack GBoost+NB:\n",
      " [[2581.16  153.04]\n",
      " [ 342.56  507.24]]\n"
     ]
    },
    {
     "data": {
      "text/html": [
       "<div>\n",
       "<style scoped>\n",
       "    .dataframe tbody tr th:only-of-type {\n",
       "        vertical-align: middle;\n",
       "    }\n",
       "\n",
       "    .dataframe tbody tr th {\n",
       "        vertical-align: top;\n",
       "    }\n",
       "\n",
       "    .dataframe thead th {\n",
       "        text-align: right;\n",
       "    }\n",
       "</style>\n",
       "<table border=\"1\" class=\"dataframe\">\n",
       "  <thead>\n",
       "    <tr style=\"text-align: right;\">\n",
       "      <th></th>\n",
       "      <th>Stack_RF+NN</th>\n",
       "      <th>Stack_GBoost+NB</th>\n",
       "      <th>Stack_GBoost+SVM</th>\n",
       "      <th>Stack_GBoost+NN</th>\n",
       "    </tr>\n",
       "  </thead>\n",
       "  <tbody>\n",
       "    <tr>\n",
       "      <th>Train Accuracy (F1 Score micro)</th>\n",
       "      <td>0.87+/-0.002</td>\n",
       "      <td>0.869+/-0.002</td>\n",
       "      <td>0.848+/-0.004</td>\n",
       "      <td>0.869+/-0.002</td>\n",
       "    </tr>\n",
       "    <tr>\n",
       "      <th>Validation Accuracy (F1 Score micro)</th>\n",
       "      <td>0.858+/-0.0</td>\n",
       "      <td>0.862+/-0.0</td>\n",
       "      <td>0.845+/-0.0</td>\n",
       "      <td>0.862+/-0.0</td>\n",
       "    </tr>\n",
       "    <tr>\n",
       "      <th>Test Accuracy (F1 Score micro)</th>\n",
       "      <td>0.863</td>\n",
       "      <td>0.867</td>\n",
       "      <td>0.847</td>\n",
       "      <td>0.868</td>\n",
       "    </tr>\n",
       "    <tr>\n",
       "      <th>Precision Train</th>\n",
       "      <td>0.798+/-0.004</td>\n",
       "      <td>0.792+/-0.004</td>\n",
       "      <td>0.726+/-0.023</td>\n",
       "      <td>0.788+/-0.004</td>\n",
       "    </tr>\n",
       "    <tr>\n",
       "      <th>Precision Validation</th>\n",
       "      <td>0.765+/-0.018</td>\n",
       "      <td>0.772+/-0.017</td>\n",
       "      <td>0.718+/-0.03</td>\n",
       "      <td>0.768+/-0.017</td>\n",
       "    </tr>\n",
       "    <tr>\n",
       "      <th>Precision Test</th>\n",
       "      <td>0.776</td>\n",
       "      <td>0.792</td>\n",
       "      <td>0.73</td>\n",
       "      <td>0.79</td>\n",
       "    </tr>\n",
       "    <tr>\n",
       "      <th>Recall Train</th>\n",
       "      <td>0.604+/-0.007</td>\n",
       "      <td>0.61+/-0.005</td>\n",
       "      <td>0.58+/-0.042</td>\n",
       "      <td>0.61+/-0.005</td>\n",
       "    </tr>\n",
       "    <tr>\n",
       "      <th>Recall Validation</th>\n",
       "      <td>0.579+/-0.017</td>\n",
       "      <td>0.596+/-0.019</td>\n",
       "      <td>0.576+/-0.045</td>\n",
       "      <td>0.597+/-0.018</td>\n",
       "    </tr>\n",
       "    <tr>\n",
       "      <th>Recall Test</th>\n",
       "      <td>0.593</td>\n",
       "      <td>0.597</td>\n",
       "      <td>0.564</td>\n",
       "      <td>0.604</td>\n",
       "    </tr>\n",
       "    <tr>\n",
       "      <th>Time</th>\n",
       "      <td>17.618+/-0.723</td>\n",
       "      <td>16.958+/-0.12</td>\n",
       "      <td>5.835+/-0.72</td>\n",
       "      <td>5.247+/-0.049</td>\n",
       "    </tr>\n",
       "  </tbody>\n",
       "</table>\n",
       "</div>"
      ],
      "text/plain": [
       "                                         Stack_RF+NN Stack_GBoost+NB  \\\n",
       "Train Accuracy (F1 Score micro)         0.87+/-0.002   0.869+/-0.002   \n",
       "Validation Accuracy (F1 Score micro)     0.858+/-0.0     0.862+/-0.0   \n",
       "Test Accuracy (F1 Score micro)                 0.863           0.867   \n",
       "Precision Train                        0.798+/-0.004   0.792+/-0.004   \n",
       "Precision Validation                   0.765+/-0.018   0.772+/-0.017   \n",
       "Precision Test                                 0.776           0.792   \n",
       "Recall Train                           0.604+/-0.007    0.61+/-0.005   \n",
       "Recall Validation                      0.579+/-0.017   0.596+/-0.019   \n",
       "Recall Test                                    0.593           0.597   \n",
       "Time                                  17.618+/-0.723   16.958+/-0.12   \n",
       "\n",
       "                                     Stack_GBoost+SVM Stack_GBoost+NN  \n",
       "Train Accuracy (F1 Score micro)         0.848+/-0.004   0.869+/-0.002  \n",
       "Validation Accuracy (F1 Score micro)      0.845+/-0.0     0.862+/-0.0  \n",
       "Test Accuracy (F1 Score micro)                  0.847           0.868  \n",
       "Precision Train                         0.726+/-0.023   0.788+/-0.004  \n",
       "Precision Validation                     0.718+/-0.03   0.768+/-0.017  \n",
       "Precision Test                                   0.73            0.79  \n",
       "Recall Train                             0.58+/-0.042    0.61+/-0.005  \n",
       "Recall Validation                       0.576+/-0.045   0.597+/-0.018  \n",
       "Recall Test                                     0.564           0.604  \n",
       "Time                                     5.835+/-0.72   5.247+/-0.049  "
      ]
     },
     "execution_count": 100,
     "metadata": {},
     "output_type": "execute_result"
    }
   ],
   "source": [
    "results_models = [model1, model7, model9, model6]\n",
    "\n",
    "f1micro_train = []\n",
    "f1micro_val = []\n",
    "f1micro_test = []\n",
    "\n",
    "precision_train = []\n",
    "precision_val = []\n",
    "precision_test = []\n",
    "\n",
    "recall_train = []\n",
    "recall_val = []\n",
    "recall_test = []\n",
    "\n",
    "times = []\n",
    "\n",
    "#organizes data for futher plotting\n",
    "for i, model in enumerate(results_models):\n",
    "    f1micro_train.append(results_models[i][1])\n",
    "    f1micro_val.append(results_models[i][2])\n",
    "    f1micro_test.append(results_models[i][3])\n",
    "    \n",
    "    precision_train.append(results_models[i][4])\n",
    "    precision_val.append(results_models[i][5])\n",
    "    precision_test.append(results_models[i][6])\n",
    "    \n",
    "    recall_train.append(results_models[i][7])\n",
    "    recall_val.append(results_models[i][8])\n",
    "    recall_test.append(results_models[i][9])\n",
    "    \n",
    "    times.append(results_models[i][0])\n",
    "    \n",
    "results = [f1micro_train, f1micro_val, f1micro_test, precision_train, precision_val, precision_test, recall_train, recall_val, recall_test, times]\n",
    "\n",
    "df = pd.DataFrame(results, index = ['Train Accuracy (F1 Score micro)', 'Validation Accuracy (F1 Score micro)', 'Test Accuracy (F1 Score micro)', 'Precision Train', 'Precision Validation', 'Precision Test', 'Recall Train', 'Recall Validation', 'Recall Test', 'Time'], columns = ['Stack_RF+NN', 'Stack_GBoost+NB', 'Stack_GBoost+SVM', 'Stack_GBoost+NN'])\n",
    "\n",
    "print('Averaged Confusion Matrix for Stack GBoost+NB:\\n', results_models[3][10])\n",
    "\n",
    "df\n"
   ]
  },
  {
   "cell_type": "code",
   "execution_count": 101,
   "metadata": {},
   "outputs": [],
   "source": [
    "models = ['RF+NN','Gboost+NB','GBoost+SVM','GBoost+NN']\n",
    "\n",
    "#plt_bar(models, f1micro_train, f1micro_val, f1micro_test)"
   ]
  },
  {
   "cell_type": "code",
   "execution_count": 102,
   "metadata": {},
   "outputs": [
    {
     "data": {
      "image/png": "[encoded data removed]",
      "text/plain": [
       "<Figure size 432x288 with 1 Axes>"
      ]
     },
     "metadata": {},
     "output_type": "display_data"
    },
    {
     "data": {
      "image/png": "[encoded data removed]",
      "text/plain": [
       "<Figure size 432x288 with 1 Axes>"
      ]
     },
     "metadata": {},
     "output_type": "display_data"
    }
   ],
   "source": [
    "# Add models to list of models to incorporte in ROC curve\n",
    "models = [{'label': 'Stack (RF+NN)','model': get_stacking(('RF', 'NN'), X_train_val, y_train_val),},\n",
    "          {'label': 'Stack (GBoost+NB)','model': get_stacking(('GBoost', 'NB'), X_train_val, y_train_val)},\n",
    "          {'label': 'Stack (GBoost+SVM)','model': get_stacking(('GBoost', 'SVM'), X_train_val, y_train_val)},\n",
    "          {'label': 'Stack (GBoost+NN)','model': get_stacking(('GBoost', 'NN'), X_train_val, y_train_val)},]\n",
    "    \n",
    "plot_roc_pr(models, X_test, y_test)"
   ]
  },
  {
   "cell_type": "code",
   "execution_count": null,
   "metadata": {},
   "outputs": [],
   "source": []
  },
  {
   "cell_type": "markdown",
   "metadata": {},
   "source": [
    "# MODEL OPTIMIZATION"
   ]
  },
  {
   "cell_type": "code",
   "execution_count": 73,
   "metadata": {},
   "outputs": [],
   "source": [
    "#FURTHER FEATURE ENGINEERING:"
   ]
  },
  {
   "cell_type": "code",
   "execution_count": 74,
   "metadata": {},
   "outputs": [],
   "source": [
    "#it's irrelevant to know if spouse is missing or in the army; even if it's relevant, this is such a small subset (284 and 14, respectively) that this has no power; thus, these values will be considered as just Married, and will thus be changed next:\n",
    "df_train.loc[df_train[\"Marital Status\"] == 'Married - Spouse in the Army', \"Marital Status\"] = 'Married'\n",
    "df_test_to_pred.loc[df_test_to_pred[\"Marital Status\"] == 'Married - Spouse in the Army', \"Marital Status\"] = 'Married'\n",
    "\n",
    "#we will also group people who do not have a spouse atm, ie., divorced, separated, single and widow will be aggregated in single; furthermore, all these variables have identical proportions of 1\n",
    "df_train.loc[df_train[\"Marital Status\"] == 'Married - Spouse Missing', \"Marital Status\"] = 'Single'\n",
    "df_test_to_pred.loc[df_test_to_pred[\"Marital Status\"] == 'Married - Spouse Missing', \"Marital Status\"] = 'Single'\n",
    "df_train.loc[df_train[\"Marital Status\"] == 'Divorced', \"Marital Status\"] = 'Single'\n",
    "df_test_to_pred.loc[df_test_to_pred[\"Marital Status\"] == 'Divorced', \"Marital Status\"] = 'Single'\n",
    "df_train.loc[df_train[\"Marital Status\"] == 'Separated', \"Marital Status\"] = 'Single'\n",
    "df_test_to_pred.loc[df_test_to_pred[\"Marital Status\"] == 'Separated', \"Marital Status\"] = 'Single'\n",
    "df_train.loc[df_train[\"Marital Status\"] == 'Widow', \"Marital Status\"] = 'Single'\n",
    "df_test_to_pred.loc[df_test_to_pred[\"Marital Status\"] == 'Widow', \"Marital Status\"] = 'Single'"
   ]
  },
  {
   "cell_type": "code",
   "execution_count": 75,
   "metadata": {},
   "outputs": [],
   "source": [
    "#it's irrelevant to know if it's \"Wife\" or \"Husband\", they're both \"spouse\", which will yield more statistical power to the feature, if relevant, and it's one less instance for One hot enconding, wich is good\n",
    "df_train.loc[df_train[\"Lives with\"] == 'Wife', \"Lives with\"] = 'Spouse'\n",
    "df_train.loc[df_train[\"Lives with\"] == 'Husband', \"Lives with\"] = 'Spouse'\n",
    "df_test_to_pred.loc[df_test_to_pred[\"Lives with\"] == 'Wife', \"Lives with\"] = 'Spouse'\n",
    "df_test_to_pred.loc[df_test_to_pred[\"Lives with\"] == 'Husband', \"Lives with\"] = 'Spouse'\n",
    "\n",
    "#all family are aggregated; this increases proportions relative to \"Spouse\" and proportions of 1's in all are close\n",
    "df_train.loc[df_train[\"Lives with\"] == 'Other Family', \"Lives with\"] = 'Family'\n",
    "df_train.loc[df_train[\"Lives with\"] == 'Other relatives', \"Lives with\"] = 'Family'\n",
    "df_train.loc[df_train[\"Lives with\"] == 'Children', \"Lives with\"] = 'Family'\n",
    "#df_train.loc[df_train[\"Lives with\"] == 'Alone', \"Lives with\"] = 'Family'\n",
    "df_test_to_pred.loc[df_test_to_pred[\"Lives with\"] == 'Other Family', \"Lives with\"] = 'Family'\n",
    "df_test_to_pred.loc[df_test_to_pred[\"Lives with\"] == 'Other relatives', \"Lives with\"] = 'Family'\n",
    "df_test_to_pred.loc[df_test_to_pred[\"Lives with\"] == 'Children', \"Lives with\"] = 'Family'\n",
    "#df_test.loc[df_test[\"Lives with\"] == 'Alone', \"Lives with\"] = 'Family'\n",
    "\n",
    "#3 Categories: Spouse, Family and Alone"
   ]
  },
  {
   "cell_type": "code",
   "execution_count": 76,
   "metadata": {},
   "outputs": [],
   "source": [
    "#we will be aggregating according to lever of education, from <= high school - Professional School - bachelors/postgraduation - masters and PhD; this seems like a logic division, not only given the logic binning regarding academic degrees, but also based on the similar proportions of 1's within each of these groups; this way we also solve the problem of misrepresented groups that exist here\n",
    "#since we have huge proportions of a particular base area, and very small proportions of all others, this feature will be converted in 0 (if not from most common base area) or 1 (if from most common base area)\n",
    "df_train.replace(['High School - 2nd Cycle', 'High School - 1st Cycle', 'High School Complete', 'Middle School - 2nd Cycle', 'Middle School Complete', 'Middle School - 1st Cycle', 'Primary School', 'Preschool', 'Professional School'], ['Basic Education']*9, inplace = True)\n",
    "df_test_to_pred.replace(['High School - 2nd Cycle', 'High School - 1st Cycle', 'High School Complete', 'Middle School - 2nd Cycle', 'Middle School Complete', 'Middle School - 1st Cycle', 'Primary School', 'Preschool', 'Professional School'], ['Basic Education']*9, inplace = True)\n",
    "\n",
    "df_train.replace(['Bachelors', 'High School + PostGraduation', 'Bachelors + PostGraduation', 'Professional School + PostGraduation'], ['PostGraduation']*4, inplace = True)\n",
    "df_test_to_pred.replace(['Bachelors', 'High School + PostGraduation', 'Bachelors + PostGraduation', 'Professional School + PostGraduation'], ['PostGraduation']*4, inplace = True)\n",
    "\n",
    "df_train.replace(['Masters', 'Masters + PostGraduation', 'PhD'], ['Masters/PhD']*3, inplace = True)\n",
    "df_test_to_pred.replace(['Masters', 'Masters + PostGraduation', 'PhD'], ['Masters/PhD']*3, inplace = True)"
   ]
  },
  {
   "cell_type": "code",
   "execution_count": 77,
   "metadata": {},
   "outputs": [],
   "source": [
    "#bins all private sector types to \"Private Sector\";\n",
    "df_train.replace(['Private Sector - Services ', 'Private Sector - Others'], ['Private Sector','Private Sector'], inplace = True)\n",
    "df_test_to_pred.replace(['Private Sector - Services ', 'Private Sector - Others'], ['Private Sector','Private Sector'], inplace = True)\n",
    "\n",
    "#all Public Sector types to \"Public Sector\";\n",
    "df_train.replace(['Public Sector - Others', 'Public Sector - Government'], ['Public Sector','Public Sector'], inplace = True)\n",
    "df_test_to_pred.replace(['Public Sector - Others', 'Public Sector - Government'], ['Public Sector','Public Sector'], inplace = True)\n",
    "\n",
    "#all Self-Employed types in Self-Employed;\n",
    "df_train.replace(['Self-Employed (Individual)', 'Self-Employed (Company)'], ['Self-Employed','Self-Employed'], inplace = True)\n",
    "df_test_to_pred.replace(['Self-Employed (Individual)', 'Self-Employed (Company)'], ['Self-Employed','Self-Employed'], inplace = True)\n",
    "\n",
    "#and Unemployed and Never worked in \"Unemployed\"\n",
    "df_train.replace(['Unemployed', 'Never Worked'], ['Unemployed','Unemployed'], inplace = True)\n",
    "df_test_to_pred.replace(['Unemployed', 'Never Worked'], ['Unemployed','Unemployed'], inplace = True)"
   ]
  },
  {
   "cell_type": "code",
   "execution_count": 78,
   "metadata": {},
   "outputs": [],
   "source": [
    "df_train.loc[df_train['Role'] == 'Professor', 'Role'] = 'high'\n",
    "df_train.loc[df_train['Role'] == 'Management', 'Role'] = 'high'\n",
    "\n",
    "df_train.loc[df_train['Role'] == 'IT', 'Role'] = 'medium'\n",
    "df_train.loc[df_train['Role'] == 'Security', 'Role'] = 'medium'\n",
    "df_train.loc[df_train['Role'] == 'Sales', 'Role'] = 'medium'\n",
    "df_train.loc[df_train['Role'] == 'Repair & constructions', 'Role'] = 'medium'\n",
    "df_train.loc[df_train['Role'] == 'Army', 'Role'] = 'medium'\n",
    "\n",
    "df_train.loc[df_train['Role'] == 'Administratives', 'Role'] = 'low'\n",
    "df_train.loc[df_train['Role'] == 'Agriculture and Fishing', 'Role'] = 'low'\n",
    "df_train.loc[df_train['Role'] == 'Cleaners & Handlers', 'Role'] = 'low'\n",
    "df_train.loc[df_train['Role'] == 'Household Services', 'Role'] = 'low'\n",
    "df_train.loc[df_train['Role'] == 'Machine Operators & Inspectors', 'Role'] = 'low'\n",
    "df_train.loc[df_train['Role'] == 'Other services', 'Role'] = 'low'\n",
    "df_train.loc[df_train['Role'] == 'Transports', 'Role'] = 'low'\n",
    "df_train.loc[df_train['Role'] == 'Unknown', 'Role'] = 'low'\n",
    "\n",
    "###\n",
    "\n",
    "df_test_to_pred.loc[df_test_to_pred['Role'] == 'Professor', 'Role'] = 'high'\n",
    "df_test_to_pred.loc[df_test_to_pred['Role'] == 'Management', 'Role'] = 'high'\n",
    "\n",
    "df_test_to_pred.loc[df_test_to_pred['Role'] == 'IT', 'Role'] = 'medium'\n",
    "df_test_to_pred.loc[df_test_to_pred['Role'] == 'Security', 'Role'] = 'medium'\n",
    "df_test_to_pred.loc[df_test_to_pred['Role'] == 'Sales', 'Role'] = 'medium'\n",
    "df_test_to_pred.loc[df_test_to_pred['Role'] == 'Repair & constructions', 'Role'] = 'medium'\n",
    "df_test_to_pred.loc[df_test_to_pred['Role'] == 'Army', 'Role'] = 'medium'\n",
    "\n",
    "df_test_to_pred.loc[df_test_to_pred['Role'] == 'Administratives', 'Role'] = 'low'\n",
    "df_test_to_pred.loc[df_test_to_pred['Role'] == 'Agriculture and Fishing', 'Role'] = 'low'\n",
    "df_test_to_pred.loc[df_test_to_pred['Role'] == 'Cleaners & Handlers', 'Role'] = 'low'\n",
    "df_test_to_pred.loc[df_test_to_pred['Role'] == 'Household Services', 'Role'] = 'low'\n",
    "df_test_to_pred.loc[df_test_to_pred['Role'] == 'Machine Operators & Inspectors', 'Role'] = 'low'\n",
    "df_test_to_pred.loc[df_test_to_pred['Role'] == 'Other services', 'Role'] = 'low'\n",
    "df_test_to_pred.loc[df_test_to_pred['Role'] == 'Transports', 'Role'] = 'low'\n",
    "df_test_to_pred.loc[df_test_to_pred['Role'] == 'Unknown', 'Role'] = 'low'"
   ]
  },
  {
   "cell_type": "code",
   "execution_count": null,
   "metadata": {},
   "outputs": [],
   "source": []
  },
  {
   "cell_type": "code",
   "execution_count": 79,
   "metadata": {},
   "outputs": [],
   "source": [
    "#ONE-HOT ENCODING TO ENCODE CATEGORICAL VARIABLES"
   ]
  },
  {
   "cell_type": "code",
   "execution_count": 80,
   "metadata": {},
   "outputs": [],
   "source": [
    "df_ohc_train = df_train.copy()\n",
    "df_ohc_test = df_test_to_pred.copy()"
   ]
  },
  {
   "cell_type": "code",
   "execution_count": 81,
   "metadata": {},
   "outputs": [],
   "source": [
    "metric_features = ['Age', 'Years of Education', 'Working Hours per week', 'Money Received', 'Ticket Price']\n",
    "non_metric_features = ['Employment Sector', 'Marital Status', 'Lives with', 'Education Level', 'Role']"
   ]
  },
  {
   "cell_type": "code",
   "execution_count": 82,
   "metadata": {},
   "outputs": [],
   "source": [
    "ohc = OneHotEncoder(sparse=False, drop='first')\n",
    "ohc_feat_train = ohc.fit_transform(df_ohc_train[non_metric_features])\n",
    "ohc_feat_names = ohc.get_feature_names()\n",
    "ohc_df_train = pd.DataFrame(ohc_feat_train, index=df_ohc_train.index, columns=ohc_feat_names)  # Why the index=df_ohc.index?\n",
    "\n",
    "ohc = OneHotEncoder(sparse=False, drop='first')\n",
    "ohc_feat_test = ohc.fit_transform(df_ohc_test[non_metric_features])\n",
    "ohc_feat_names = ohc.get_feature_names()\n",
    "ohc_df_test = pd.DataFrame(ohc_feat_test, index=df_ohc_test.index, columns=ohc_feat_names)"
   ]
  },
  {
   "cell_type": "code",
   "execution_count": 83,
   "metadata": {},
   "outputs": [],
   "source": [
    "df_ohc_train = pd.concat([df_ohc_train.drop(columns=non_metric_features), ohc_df_train], axis=1)\n",
    "df_ohc_test = pd.concat([df_ohc_test.drop(columns=non_metric_features), ohc_df_test], axis=1)"
   ]
  },
  {
   "cell_type": "code",
   "execution_count": null,
   "metadata": {},
   "outputs": [],
   "source": []
  },
  {
   "cell_type": "code",
   "execution_count": 84,
   "metadata": {},
   "outputs": [],
   "source": [
    "#DEALING W/ OUTLIERS (no changes)"
   ]
  },
  {
   "cell_type": "code",
   "execution_count": 85,
   "metadata": {},
   "outputs": [],
   "source": [
    "df_outlier_train = df_ohc_train.copy()\n",
    "df_outlier_test = df_ohc_test.copy()"
   ]
  },
  {
   "cell_type": "code",
   "execution_count": 86,
   "metadata": {},
   "outputs": [],
   "source": [
    "#applies log(x+1) in ticket price and money recieved columns\n",
    "df_outlier_train[['Ticket Price', 'Money Received']] = df_outlier_train[['Ticket Price', 'Money Received']].apply(lambda x: np.log1p(x))\n",
    "df_outlier_test[['Ticket Price', 'Money Received']] = df_outlier_test[['Ticket Price', 'Money Received']].apply(lambda x: np.log1p(x))\n"
   ]
  },
  {
   "cell_type": "code",
   "execution_count": null,
   "metadata": {},
   "outputs": [],
   "source": []
  },
  {
   "cell_type": "code",
   "execution_count": 87,
   "metadata": {},
   "outputs": [],
   "source": [
    "#NORMALIZING DATA"
   ]
  },
  {
   "cell_type": "code",
   "execution_count": 88,
   "metadata": {},
   "outputs": [],
   "source": [
    "df_normalization_train = df_outlier_train.copy()\n",
    "df_normalization_test = df_outlier_test.copy()"
   ]
  },
  {
   "cell_type": "code",
   "execution_count": 89,
   "metadata": {},
   "outputs": [],
   "source": [
    "#scaler = MinMaxScaler(feature_range=(0, 1))\n",
    "#scaler = StandardScaler()\n",
    "scaler = RobustScaler()\n",
    "#try MinMax with feature_range=(-1,1) as well\n",
    "df_normalization_train_metric = pd.DataFrame(scaler.fit_transform(df_normalization_train[metric_features]), index=df_normalization_train.index, columns=metric_features)\n",
    "df_normalization_test_metric = pd.DataFrame(scaler.fit_transform(df_normalization_test[metric_features]), index=df_normalization_test.index, columns=metric_features)"
   ]
  },
  {
   "cell_type": "code",
   "execution_count": 90,
   "metadata": {},
   "outputs": [],
   "source": [
    "df_normalization_train = pd.concat([df_normalization_train.drop(columns=metric_features), df_normalization_train_metric], axis=1)\n",
    "df_normalization_test = pd.concat([df_normalization_test.drop(columns=metric_features), df_normalization_test_metric], axis=1)"
   ]
  },
  {
   "cell_type": "code",
   "execution_count": null,
   "metadata": {},
   "outputs": [],
   "source": []
  },
  {
   "cell_type": "code",
   "execution_count": 91,
   "metadata": {},
   "outputs": [],
   "source": [
    "df_fselection_train = df_normalization_train.copy()\n",
    "df_fselection_test = df_normalization_test.copy()"
   ]
  },
  {
   "cell_type": "code",
   "execution_count": 92,
   "metadata": {},
   "outputs": [],
   "source": [
    "#defines numerical and categorical variables\n",
    "numerical_variables = ['Age', 'Years of Education', 'Working Hours per week', 'Ticket Price', \"Money Received\"]\n",
    "categorical_variables = [variable for variable in df_fselection_train.columns if variable not in numerical_variables]\n",
    "categorical_variables.remove('Income') #lets drop the dependent variable"
   ]
  },
  {
   "cell_type": "code",
   "execution_count": 93,
   "metadata": {},
   "outputs": [],
   "source": [
    "#We'll be using all variables as feature selection at this point has proven to decrease the accuracy of the model\n",
    "\n",
    "#based on correlations, we'll be dropping Single and Family since they're highly correlated with spouse; based on proportion plots above, spouse seems more meaningfull for income\n",
    "df_fselection_train.drop([\"x2_Family\"],  axis=1, inplace=True)\n",
    "df_fselection_test.drop([\"x2_Family\"],  axis=1, inplace=True)\n",
    "\n",
    "df_fselection_train.drop([\"x1_Single\"],  axis=1, inplace=True)\n",
    "df_fselection_test.drop([\"x1_Single\"],  axis=1, inplace=True)\n",
    "\n",
    "features_selected = df_fselection_train.columns.drop('Income')"
   ]
  },
  {
   "cell_type": "code",
   "execution_count": null,
   "metadata": {},
   "outputs": [],
   "source": []
  },
  {
   "cell_type": "code",
   "execution_count": 94,
   "metadata": {},
   "outputs": [],
   "source": [
    "df_train_validation_test = df_fselection_train.copy().drop('Income', axis = 1)[features_selected] #all, w/ FS accuracy drops\n",
    "df_test_to_pred = df_fselection_test.copy()[features_selected]"
   ]
  },
  {
   "cell_type": "code",
   "execution_count": 95,
   "metadata": {},
   "outputs": [],
   "source": [
    "#X_train_val, X_test, y_train_val, y_test = train_test_split(df_train_validation_test,\n",
    "                                                  #df_fselection_train[\"Income\"],\n",
    "                                                  #test_size = 0.20,\n",
    "                                                  #random_state = 15,\n",
    "                                                  #shuffle=True,\n",
    "                                                  #stratify=df_fselection_train[\"Income\"])"
   ]
  },
  {
   "cell_type": "code",
   "execution_count": 114,
   "metadata": {},
   "outputs": [],
   "source": [
    "#Runs final model\n",
    "\n",
    "def run_final_model(X, y):\n",
    "\n",
    "    method_cv = RepeatedStratifiedKFold(n_splits=10, n_repeats=10, random_state = 15)\n",
    "\n",
    "    cv_score = avg_score(method_cv, X, y, ('GBoost', 'NB')) #gets score\n",
    "\n",
    "    #test_preds = get_stacking(('GBoost', 'NB'), X, y).predict(X_test) #gets predictions for test\n",
    "\n",
    "    #cm = confusion_matrix(y_test, test_preds)\n",
    "    \n",
    "    #print(cm)\n",
    "    \n",
    "    return cv_score\n",
    "#result_final_model = run_final_model(X_train_val, y_train_val)\n",
    "result_final_model = run_final_model(df_train_validation_test, df_fselection_train['Income'])"
   ]
  },
  {
   "cell_type": "code",
   "execution_count": 115,
   "metadata": {},
   "outputs": [
    {
     "data": {
      "text/html": [
       "<div>\n",
       "<style scoped>\n",
       "    .dataframe tbody tr th:only-of-type {\n",
       "        vertical-align: middle;\n",
       "    }\n",
       "\n",
       "    .dataframe tbody tr th {\n",
       "        vertical-align: top;\n",
       "    }\n",
       "\n",
       "    .dataframe thead th {\n",
       "        text-align: right;\n",
       "    }\n",
       "</style>\n",
       "<table border=\"1\" class=\"dataframe\">\n",
       "  <thead>\n",
       "    <tr style=\"text-align: right;\">\n",
       "      <th></th>\n",
       "      <th>GBoost+NB_Optimized</th>\n",
       "    </tr>\n",
       "  </thead>\n",
       "  <tbody>\n",
       "    <tr>\n",
       "      <th>Train Accuracy (F1 Score micro)</th>\n",
       "      <td>0.873+/-0.001</td>\n",
       "    </tr>\n",
       "    <tr>\n",
       "      <th>Validation Accuracy (F1 Score micro)</th>\n",
       "      <td>0.868+/-0.0</td>\n",
       "    </tr>\n",
       "    <tr>\n",
       "      <th>Precision Train</th>\n",
       "      <td>0.784+/-0.002</td>\n",
       "    </tr>\n",
       "    <tr>\n",
       "      <th>Precision Validation</th>\n",
       "      <td>0.772+/-0.019</td>\n",
       "    </tr>\n",
       "    <tr>\n",
       "      <th>Recall Train</th>\n",
       "      <td>0.641+/-0.003</td>\n",
       "    </tr>\n",
       "    <tr>\n",
       "      <th>Recall Validation</th>\n",
       "      <td>0.631+/-0.019</td>\n",
       "    </tr>\n",
       "    <tr>\n",
       "      <th>Time</th>\n",
       "      <td>8.769+/-0.203</td>\n",
       "    </tr>\n",
       "  </tbody>\n",
       "</table>\n",
       "</div>"
      ],
      "text/plain": [
       "                                     GBoost+NB_Optimized\n",
       "Train Accuracy (F1 Score micro)            0.873+/-0.001\n",
       "Validation Accuracy (F1 Score micro)         0.868+/-0.0\n",
       "Precision Train                            0.784+/-0.002\n",
       "Precision Validation                       0.772+/-0.019\n",
       "Recall Train                               0.641+/-0.003\n",
       "Recall Validation                          0.631+/-0.019\n",
       "Time                                       8.769+/-0.203"
      ]
     },
     "execution_count": 115,
     "metadata": {},
     "output_type": "execute_result"
    }
   ],
   "source": [
    "results = [result_final_model[1], result_final_model[2], result_final_model[4], result_final_model[5], result_final_model[7], result_final_model[8], result_final_model[0]]\n",
    "\n",
    "df = pd.DataFrame(results, index = ['Train Accuracy (F1 Score micro)', 'Validation Accuracy (F1 Score micro)', 'Precision Train', 'Precision Validation', 'Recall Train', 'Recall Validation', 'Time'], columns = ['GBoost+NB_Optimized'])\n",
    "\n",
    "df"
   ]
  },
  {
   "cell_type": "code",
   "execution_count": null,
   "metadata": {},
   "outputs": [],
   "source": []
  },
  {
   "cell_type": "markdown",
   "metadata": {},
   "source": [
    "Trying to improve scores by balancing datasets:"
   ]
  },
  {
   "cell_type": "code",
   "execution_count": null,
   "metadata": {},
   "outputs": [],
   "source": [
    "#Under Sampling \n",
    "#rus = RandomUnderSampler(sampling_strategy='auto') #sampling_strategy=0.75, #sampling_Stratergy = 0.75; this represen ts nr minorioty_class/majority_class; i was that when it was 'auto' (equal nr for both classes), f1-scores for 0 an d 1 were a bit higher even for class 1; i think this is not good coz having an underestimate of taxes is better than an overestimate, that will then not come true; so, i'm taking here more 0 classes than 1's; this way, the f1-score does not seem to changealmost anything for the 1 class, but it's a bit biases towards the 0, whcih might be benefitial!\n",
    "#X_resampled, y_resampled = rus.fit_resample(X_train_val, y_train_val)\n",
    "#print(sorted(Counter(y_resampled).items()))"
   ]
  },
  {
   "cell_type": "code",
   "execution_count": null,
   "metadata": {},
   "outputs": [],
   "source": [
    "#result_under_samp = run_final_model(X_resampled, y_resampled)"
   ]
  },
  {
   "cell_type": "code",
   "execution_count": null,
   "metadata": {},
   "outputs": [],
   "source": [
    "#Combining Over and Under sampling\n",
    "#over = RandomOverSampler(sampling_strategy=0.5)\n",
    "#X_resampled, y_resampled = over.fit_resample(X_train_val, y_train_val)\n",
    "#rus = RandomUnderSampler(sampling_strategy=1)\n",
    "#X_resampled, y_resampled = rus.fit_resample(X_resampled, y_resampled)\n",
    "#print(sorted(Counter(y_resampled).items()))"
   ]
  },
  {
   "cell_type": "code",
   "execution_count": null,
   "metadata": {},
   "outputs": [],
   "source": [
    "#result_underOver_samp = run_final_model(X_resampled, y_resampled)"
   ]
  },
  {
   "cell_type": "code",
   "execution_count": null,
   "metadata": {},
   "outputs": [],
   "source": [
    "#balancing = ['Benchmark (No Balancing)','Under Sampling','Under/Over Samnpling']\n",
    "\n",
    "#fig, ax = plt.subplots(figsize = (4, 5))\n",
    "#sns.set_style(style=\"whitegrid\")\n",
    "\n",
    "#barwidth = 0.1\n",
    "#pos_benchmark = 0.1\n",
    "#pos_under = pos_benchmark+barwidth\n",
    "#pos_underOver = pos_under+barwidth\n",
    "\n",
    "#plt.bar(pos_benchmark, result_final_model[0][1], color='dodgerblue', width=barwidth, edgecolor='white', label='Benchmark (No Balancing)')\n",
    "#plt.bar(pos_under, result_under_samp[0][1], color='steelblue', width=barwidth, edgecolor='white', label='Under Sampling')\n",
    "#plt.bar(pos_underOver, result_underOver_samp[0][1], color='skyblue', width=barwidth, edgecolor='white', label='Under/Over Sampling')\n",
    "\n",
    "#ax.set(xlabel = 'Balancing', ylabel = 'F1 micro (Validation Set)')\n",
    "#ax.set_xticks([pos_benchmark, pos_under, pos_underOver])\n",
    "#ax.set_xticklabels(balancing, rotation='vertical')\n",
    "#ax.set_yticks(np.arange(0, 1, 0.1))\n",
    "#plt.title('Repeated Stratified 10-fold Cross-Validation Results', fontsize = 12)\n",
    "#plt.box(on=None)\n",
    "#plt.legend(loc=\"lower center\", bbox_to_anchor=(0.5, -0.75), ncol= 2, frameon=False)\n",
    "\n",
    "#plt.show()"
   ]
  },
  {
   "cell_type": "markdown",
   "metadata": {},
   "source": [
    "Checking different normalizations on current model"
   ]
  },
  {
   "cell_type": "code",
   "execution_count": null,
   "metadata": {},
   "outputs": [],
   "source": [
    "'''\n",
    "scaler1 = MinMaxScaler(feature_range=(0, 1))\n",
    "scaler2 = MinMaxScaler(feature_range=(-1, 1))\n",
    "scaler3 = StandardScaler()\n",
    "scaler4 = RobustScaler()\n",
    "\n",
    "result_normalization = []\n",
    "\n",
    "def test_normalizations(scaler):\n",
    "    \n",
    "    df_normalization_train = df_outlier_train.copy()\n",
    "    df_normalization_test = df_outlier_test.copy()\n",
    "    \n",
    "    df_normalization_train_metric = pd.DataFrame(scaler.fit_transform(df_normalization_train[metric_features]), index=df_normalization_train.index, columns=metric_features)\n",
    "    df_normalization_test_metric = pd.DataFrame(scaler.fit_transform(df_normalization_test[metric_features]), index=df_normalization_test.index, columns=metric_features)\n",
    "\n",
    "    df_normalization_train = pd.concat([df_normalization_train.drop(columns=metric_features), df_normalization_train_metric], axis=1)\n",
    "    df_normalization_test = pd.concat([df_normalization_test.drop(columns=metric_features), df_normalization_test_metric], axis=1)\n",
    "\n",
    "    df_fselection_train = df_normalization_train.copy()\n",
    "    df_fselection_test = df_normalization_test.copy()\n",
    "\n",
    "    df_fselection_train.drop([\"x2_Family\"],  axis=1, inplace=True)\n",
    "    df_fselection_test.drop([\"x2_Family\"],  axis=1, inplace=True)\n",
    "    df_fselection_train.drop([\"x1_Single\"],  axis=1, inplace=True)\n",
    "    df_fselection_test.drop([\"x1_Single\"],  axis=1, inplace=True)\n",
    "\n",
    "    features_selected = df_fselection_train.columns.drop('Income') #all\n",
    "\n",
    "    df_train_validation_test = df_fselection_train.copy().drop('Income', axis = 1)[features_selected]\n",
    "    df_test = df_fselection_test.copy()[features_selected]\n",
    "\n",
    "    X_train_val, X_test, y_train_val, y_test = train_test_split(df_train_validation_test,\n",
    "                                                      df_fselection_train[\"Income\"],\n",
    "                                                      test_size = 0.20,\n",
    "                                                      random_state = 15,\n",
    "                                                      shuffle=True,\n",
    "                                                      stratify=df_fselection_train[\"Income\"])\n",
    "\n",
    "    result_normalization.append(run_final_model(X_train_val, y_train_val)[0][1])\n",
    "    \n",
    "\n",
    "scalers = [scaler1, scaler2, scaler3, scaler4]\n",
    "\n",
    "for scaler in scalers:\n",
    "    test_normalizations(scaler)\n",
    "    \n",
    "print(result_normalization)\n",
    "'''\n"
   ]
  },
  {
   "cell_type": "code",
   "execution_count": null,
   "metadata": {},
   "outputs": [],
   "source": [
    "#result_scaler1 = run_final_model(X_resampled, y_resampled)"
   ]
  },
  {
   "cell_type": "code",
   "execution_count": null,
   "metadata": {},
   "outputs": [],
   "source": []
  },
  {
   "cell_type": "markdown",
   "metadata": {},
   "source": [
    "Illustrations Metrics"
   ]
  },
  {
   "cell_type": "code",
   "execution_count": null,
   "metadata": {},
   "outputs": [],
   "source": [
    "#defines final classifier and each one of its base learners\n",
    "clf1 = GaussianNB()\n",
    "clf2 = GradientBoostingClassifier(n_estimators=175, learning_rate=0.1, random_state=15)\n",
    "lr = LogisticRegression()\n",
    "sclf = StackingClassifier(estimators=[('NB', clf1), ('GBoost', clf2)], final_estimator=lr)"
   ]
  },
  {
   "cell_type": "code",
   "execution_count": null,
   "metadata": {},
   "outputs": [],
   "source": [
    "#calculates cross validated scores and illustrates stacking ensemble and each one of its base learners, with respective decision boundaries\n",
    "\n",
    "label = ['NB', 'GBoost', 'Stacking']\n",
    "clf_list = [clf1, clf2, sclf]\n",
    "\n",
    "#fig = plt.figure(figsize=(10, 8))\n",
    "#gs = gridspec.GridSpec(2, 2)\n",
    "#grid = itertools.product([0,1],repeat=2)\n",
    "\n",
    "clf_cv_mean = []\n",
    "clf_cv_std = []\n",
    "\n",
    "#for clf, label, grd in zip(clf_list, label, grid):        \n",
    "for clf, label in zip(clf_list, label):   \n",
    "    \n",
    "    scores = cross_val_score(clf, X_train_val, y_train_val, cv=RepeatedStratifiedKFold(n_splits=10, n_repeats=5, random_state=15), scoring='accuracy') #CV incorporated\n",
    "    print(\"F1 score: %.5f (+/- %.3f) [%s]\" %(scores.mean(), scores.std(), label))\n",
    "    clf_cv_mean.append(scores.mean())\n",
    "    clf_cv_std.append(scores.std())\n",
    "    \n",
    "    #clf.fit(X_train_val, y_train_val)\n",
    "    #ax = plt.subplot(gs[grd[0], grd[1]])\n",
    "    #fig = plot_decision_regions(X=X_train_val, y=y_train_val, clf=clf, legend=2)\n",
    "    #plt.title(label)\n",
    "\n",
    "plt.show()"
   ]
  },
  {
   "cell_type": "code",
   "execution_count": null,
   "metadata": {},
   "outputs": [],
   "source": [
    "#PLOTS CUMULATIVE CLASSIFIER F1 MICRO SCORE \n",
    "plt.figure()\n",
    "sns.set_style(style=\"whitegrid\")\n",
    "(_, caps, _) = plt.errorbar(range(3), clf_cv_mean, yerr=clf_cv_std, c='blue', fmt='-o', capsize=5)\n",
    "\n",
    "for cap in caps:\n",
    "    cap.set_markeredgewidth(1)   \n",
    "\n",
    "plt.xticks(range(3), ['NB', 'GBoost', 'Stacking'])     \n",
    "plt.ylabel('F1 micro test'); plt.xlabel('Classifier'); plt.title('Stacking Ensemble');\n",
    "plt.show()"
   ]
  },
  {
   "cell_type": "code",
   "execution_count": null,
   "metadata": {},
   "outputs": [],
   "source": [
    "#PLOTS LEARNING CURVES TO SHOW LEVEL OF OVERFITTING\n",
    "\n",
    "from mlxtend.plotting import plot_learning_curves\n",
    "from mlxtend.plotting import plot_decision_regions\n",
    "\n",
    "X_train, X_val, y_train, y_val = train_test_split(X_train_val, y_train_val, test_size=0.3, random_state=15)\n",
    "\n",
    "plt.figure()\n",
    "sns.set_style(style=\"whitegrid\") #sets style of the plot to increase readibility\n",
    "plot_learning_curves(X_train, y_train, X_val, y_val, sclf, print_model=False, style='ggplot')\n",
    "plot_learning_curves(X_train, y_train, X_test, y_test, sclf, print_model=False, style='ggplot')\n",
    "\n",
    "plt.show()"
   ]
  },
  {
   "cell_type": "code",
   "execution_count": 116,
   "metadata": {},
   "outputs": [],
   "source": [
    "#Export Predictions\n",
    "\n",
    "#model_final = get_stacking(('GBoost', 'NB'), df_train_validation_test, df_fselection_train['Income'])\n",
    "\n",
    "#labels_test = model_final.predict(df_test_to_pred)\n",
    "\n",
    "#df = pd.DataFrame(labels_test, index=df_test_to_pred.index)\n",
    "\n",
    "#df.columns = ['Income']\n",
    "\n",
    "#df.to_csv(r'Group40_Version47_Stack_GBoost&NB.csv')"
   ]
  },
  {
   "cell_type": "code",
   "execution_count": null,
   "metadata": {},
   "outputs": [],
   "source": []
  },
  {
   "cell_type": "code",
   "execution_count": null,
   "metadata": {},
   "outputs": [],
   "source": []
  }
 ],
 "metadata": {
  "kernelspec": {
   "display_name": "Python 3",
   "language": "python",
   "name": "python3"
  },
  "language_info": {
   "codemirror_mode": {
    "name": "ipython",
    "version": 3
   },
   "file_extension": ".py",
   "mimetype": "text/x-python",
   "name": "python",
   "nbconvert_exporter": "python",
   "pygments_lexer": "ipython3",
   "version": "3.8.5"
  }
 },
 "nbformat": 4,
 "nbformat_minor": 4
}
