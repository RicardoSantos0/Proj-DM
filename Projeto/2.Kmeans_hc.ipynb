{
 "cells": [
  {
   "cell_type": "code",
   "execution_count": 1,
   "metadata": {},
   "outputs": [],
   "source": [
    "import pandas as pd\n",
    "import numpy as np\n",
    "import matplotlib.pyplot as plt\n",
    "import seaborn as sns\n",
    "from math import ceil\n",
    "import os\n",
    "from datetime import date, datetime\n",
    "import warnings\n",
    "warnings.filterwarnings('ignore')\n",
    "from sklearn.impute import KNNImputer\n",
    "from sklearn.decomposition import PCA\n",
    "from sklearn.preprocessing import MinMaxScaler, StandardScaler, OneHotEncoder\n",
    "from sklearn.cluster import AgglomerativeClustering, KMeans\n",
    "from scipy.cluster.hierarchy import dendrogram\n",
    "sns.set()\n",
    "from sklearn import preprocessing\n",
    "from sklearn.preprocessing import StandardScaler, normalize, RobustScaler\n",
    "from pandas_profiling import ProfileReport\n",
    "import statistics\n",
    "from sklearn.manifold import TSNE\n",
    "import matplotlib.cm as cm\n",
    "from sklearn.tree import DecisionTreeClassifier, export_graphviz\n",
    "from sklearn.model_selection import train_test_split\n",
    "import graphviz\n",
    "from sklearn.metrics import silhouette_score, silhouette_samples, calinski_harabasz_score"
   ]
  },
  {
   "cell_type": "code",
   "execution_count": 2,
   "metadata": {},
   "outputs": [],
   "source": [
    "#imports dataset\n",
    "#dataset = #dataset name\n",
    "path = os.path.join('Outliers_Removed_notstd.csv')\n",
    "df = pd.read_csv(path)"
   ]
  },
  {
   "cell_type": "code",
   "execution_count": 3,
   "metadata": {},
   "outputs": [],
   "source": [
    "clustering_features = [\"LONGEVITY\",\"RAMNTALL\",\"NGIFTALL\",\"PROP_RESP_CARDPROM\",\"HVP4\",\"IC5\",\"EC4\"]"
   ]
  },
  {
   "cell_type": "markdown",
   "metadata": {},
   "source": [
    "# SCALING, NORMALIZATION"
   ]
  },
  {
   "cell_type": "code",
   "execution_count": 4,
   "metadata": {},
   "outputs": [],
   "source": [
    "df_norm = df.copy()"
   ]
  },
  {
   "cell_type": "code",
   "execution_count": 5,
   "metadata": {},
   "outputs": [],
   "source": [
    "# Scales the data\n",
    "\n",
    "# Get column names first\n",
    "names = df_norm[clustering_features].columns\n",
    "scaler = StandardScaler()\n",
    "scaled_feat = scaler.fit_transform(df_norm[clustering_features])\n",
    "\n",
    "#Normalizing the Data \n",
    "normalized_df =normalize(scaled_feat) \n",
    "  \n",
    "# Converting the numpy array into a pandas DataFrame \n",
    "normalized_df = pd.DataFrame(normalized_df, index=df.index,columns=names) "
   ]
  },
  {
   "cell_type": "markdown",
   "metadata": {},
   "source": [
    "# K-means CLUSTERING"
   ]
  },
  {
   "cell_type": "code",
   "execution_count": 6,
   "metadata": {},
   "outputs": [],
   "source": [
    "df_cluster = normalized_df"
   ]
  },
  {
   "cell_type": "code",
   "execution_count": 7,
   "metadata": {},
   "outputs": [
    {
     "data": {
      "image/png": "[encoded data removed]",
      "text/plain": [
       "<Figure size 648x360 with 1 Axes>"
      ]
     },
     "metadata": {},
     "output_type": "display_data"
    }
   ],
   "source": [
    "#Let's check the optimal number of clusters to keep with an elbow plot\n",
    "\n",
    "sns.set_style(style=\"whitegrid\")\n",
    "\n",
    "range_clusters = range(1, 15)\n",
    "\n",
    "inertia = []\n",
    "for n_clus in range_clusters:  # iterate over desired ncluster range\n",
    "    kmclust = KMeans(n_clusters=n_clus, init='k-means++', n_init=15, random_state=15)\n",
    "    kmclust.fit(df_cluster)\n",
    "    inertia.append(kmclust.inertia_)  # save the inertia of the given cluster solution\n",
    "    \n",
    "# The inertia plot\n",
    "plt.figure(figsize=(9,5))\n",
    "plt.plot(inertia)\n",
    "plt.ylabel(\"Inertia: SSw\")\n",
    "plt.xlabel(\"Number of clusters\")\n",
    "plt.title(\"Inertia plot over clusters\", size=15)\n",
    "plt.show()"
   ]
  },
  {
   "cell_type": "code",
   "execution_count": 8,
   "metadata": {},
   "outputs": [
    {
     "data": {
      "text/plain": [
       "KMeans(n_clusters=6, n_init=15, random_state=15)"
      ]
     },
     "execution_count": 8,
     "metadata": {},
     "output_type": "execute_result"
    }
   ],
   "source": [
    "#Let's use 6 clusters!\n",
    "\n",
    "# Better initialization method and provide more n_init\n",
    "kmclust = KMeans(n_clusters=6, init='k-means++', n_init=15, random_state=15)\n",
    "kmclust.fit(df_cluster) #performs clustering ie finds centroids"
   ]
  },
  {
   "cell_type": "code",
   "execution_count": 9,
   "metadata": {},
   "outputs": [],
   "source": [
    "#location of each point\n",
    "# the transform method\n",
    "dist_matrix = pd.DataFrame(kmclust.transform(df_cluster)) #calculates distance of each sample to respective centroid"
   ]
  },
  {
   "cell_type": "code",
   "execution_count": 10,
   "metadata": {},
   "outputs": [],
   "source": [
    "# the predict method\n",
    "km_labels = kmclust.predict(df_cluster) #associates/predicts cluster index for each sample, based on min distance"
   ]
  },
  {
   "cell_type": "code",
   "execution_count": 11,
   "metadata": {},
   "outputs": [],
   "source": [
    "###THIS GIVES US THE CENTROIDS. interpretation of the clusters; the higher the value, the more related a cluster is to a certain variable\n",
    "\n",
    "# Characterizing the final clusters\n",
    "df_concat = pd.concat((df_cluster, pd.Series(km_labels, name='labels')), axis=1)\n",
    "\n",
    "df_centroids = df_concat.groupby('labels').mean() #interpretation of content of each cluster"
   ]
  },
  {
   "cell_type": "code",
   "execution_count": 12,
   "metadata": {},
   "outputs": [
    {
     "data": {
      "text/html": [
       "<div>\n",
       "<style scoped>\n",
       "    .dataframe tbody tr th:only-of-type {\n",
       "        vertical-align: middle;\n",
       "    }\n",
       "\n",
       "    .dataframe tbody tr th {\n",
       "        vertical-align: top;\n",
       "    }\n",
       "\n",
       "    .dataframe thead th {\n",
       "        text-align: right;\n",
       "    }\n",
       "</style>\n",
       "<table border=\"1\" class=\"dataframe\">\n",
       "  <thead>\n",
       "    <tr style=\"text-align: right;\">\n",
       "      <th></th>\n",
       "      <th>LONGEVITY</th>\n",
       "      <th>RAMNTALL</th>\n",
       "      <th>NGIFTALL</th>\n",
       "      <th>PROP_RESP_CARDPROM</th>\n",
       "      <th>HVP4</th>\n",
       "      <th>IC5</th>\n",
       "      <th>EC4</th>\n",
       "    </tr>\n",
       "    <tr>\n",
       "      <th>labels</th>\n",
       "      <th></th>\n",
       "      <th></th>\n",
       "      <th></th>\n",
       "      <th></th>\n",
       "      <th></th>\n",
       "      <th></th>\n",
       "      <th></th>\n",
       "    </tr>\n",
       "  </thead>\n",
       "  <tbody>\n",
       "    <tr>\n",
       "      <th>0</th>\n",
       "      <td>-0.379022</td>\n",
       "      <td>-0.343086</td>\n",
       "      <td>-0.364837</td>\n",
       "      <td>-0.240682</td>\n",
       "      <td>0.403005</td>\n",
       "      <td>0.045639</td>\n",
       "      <td>-0.089521</td>\n",
       "    </tr>\n",
       "    <tr>\n",
       "      <th>1</th>\n",
       "      <td>0.294883</td>\n",
       "      <td>0.251434</td>\n",
       "      <td>0.409345</td>\n",
       "      <td>0.379535</td>\n",
       "      <td>-0.284309</td>\n",
       "      <td>-0.177960</td>\n",
       "      <td>0.166524</td>\n",
       "    </tr>\n",
       "    <tr>\n",
       "      <th>2</th>\n",
       "      <td>-0.383109</td>\n",
       "      <td>-0.338939</td>\n",
       "      <td>-0.335013</td>\n",
       "      <td>-0.203379</td>\n",
       "      <td>-0.368493</td>\n",
       "      <td>-0.231320</td>\n",
       "      <td>0.190413</td>\n",
       "    </tr>\n",
       "    <tr>\n",
       "      <th>3</th>\n",
       "      <td>0.331180</td>\n",
       "      <td>0.346703</td>\n",
       "      <td>0.310313</td>\n",
       "      <td>0.214543</td>\n",
       "      <td>0.369894</td>\n",
       "      <td>0.114431</td>\n",
       "      <td>-0.141926</td>\n",
       "    </tr>\n",
       "    <tr>\n",
       "      <th>4</th>\n",
       "      <td>0.309989</td>\n",
       "      <td>0.133110</td>\n",
       "      <td>-0.022069</td>\n",
       "      <td>-0.239888</td>\n",
       "      <td>-0.410116</td>\n",
       "      <td>-0.256443</td>\n",
       "      <td>0.316628</td>\n",
       "    </tr>\n",
       "    <tr>\n",
       "      <th>5</th>\n",
       "      <td>-0.046052</td>\n",
       "      <td>-0.056947</td>\n",
       "      <td>-0.138843</td>\n",
       "      <td>-0.109551</td>\n",
       "      <td>0.424639</td>\n",
       "      <td>0.458412</td>\n",
       "      <td>-0.431592</td>\n",
       "    </tr>\n",
       "  </tbody>\n",
       "</table>\n",
       "</div>"
      ],
      "text/plain": [
       "        LONGEVITY  RAMNTALL  NGIFTALL  PROP_RESP_CARDPROM      HVP4       IC5  \\\n",
       "labels                                                                          \n",
       "0       -0.379022 -0.343086 -0.364837           -0.240682  0.403005  0.045639   \n",
       "1        0.294883  0.251434  0.409345            0.379535 -0.284309 -0.177960   \n",
       "2       -0.383109 -0.338939 -0.335013           -0.203379 -0.368493 -0.231320   \n",
       "3        0.331180  0.346703  0.310313            0.214543  0.369894  0.114431   \n",
       "4        0.309989  0.133110 -0.022069           -0.239888 -0.410116 -0.256443   \n",
       "5       -0.046052 -0.056947 -0.138843           -0.109551  0.424639  0.458412   \n",
       "\n",
       "             EC4  \n",
       "labels            \n",
       "0      -0.089521  \n",
       "1       0.166524  \n",
       "2       0.190413  \n",
       "3      -0.141926  \n",
       "4       0.316628  \n",
       "5      -0.431592  "
      ]
     },
     "execution_count": 12,
     "metadata": {},
     "output_type": "execute_result"
    }
   ],
   "source": [
    "df_centroids #check the values of the centroids"
   ]
  },
  {
   "cell_type": "code",
   "execution_count": 13,
   "metadata": {},
   "outputs": [
    {
     "data": {
      "text/plain": [
       "2    15220\n",
       "1    12127\n",
       "0    11187\n",
       "3    10056\n",
       "5     8403\n",
       "4     7899\n",
       "Name: 0, dtype: int64"
      ]
     },
     "execution_count": 13,
     "metadata": {},
     "output_type": "execute_result"
    }
   ],
   "source": [
    "pd.DataFrame(km_labels)[0].value_counts() #donors are well distributed between the 6 centroids"
   ]
  },
  {
   "cell_type": "markdown",
   "metadata": {},
   "source": [
    "# METRICS FOR K-means EVALUATION"
   ]
  },
  {
   "cell_type": "code",
   "execution_count": 14,
   "metadata": {},
   "outputs": [],
   "source": [
    "df_initial_labeled = df.join(df_concat['labels']) #dataset pre scaling, normalization; adds labels"
   ]
  },
  {
   "cell_type": "code",
   "execution_count": 15,
   "metadata": {},
   "outputs": [
    {
     "name": "stdout",
     "output_type": "stream",
     "text": [
      "R^2 Score:  0.594\n"
     ]
    }
   ],
   "source": [
    "# using R^2\n",
    "def get_ss(df):\n",
    "    ss = np.sum(df.var() * (df.count() - 1))\n",
    "    return ss # return sum of sum of squares of each df variable\n",
    "\n",
    "sst = get_ss(df_cluster) # get total sum of squares\n",
    "ssw_labels = df_concat.groupby(['labels']).apply(get_ss) # compute ssw for each cluster labels\n",
    "ssb = sst - np.sum(ssw_labels) # remember: SST = SSW + SSB\n",
    "r2 = ssb / sst\n",
    "print('R^2 Score: ', round(r2,3))"
   ]
  },
  {
   "cell_type": "code",
   "execution_count": 16,
   "metadata": {},
   "outputs": [
    {
     "name": "stdout",
     "output_type": "stream",
     "text": [
      "Silhouette Score:  0.206\n"
     ]
    }
   ],
   "source": [
    "silhoutte_score = silhouette_score(df_cluster, km_labels, random_state=15)\n",
    "\n",
    "print('Silhouette Score: ', round(silhoutte_score,3))"
   ]
  },
  {
   "cell_type": "code",
   "execution_count": 17,
   "metadata": {},
   "outputs": [
    {
     "name": "stdout",
     "output_type": "stream",
     "text": [
      "Calinski Harabasz Score:  18951.84\n"
     ]
    }
   ],
   "source": [
    "calinski_harabasz = calinski_harabasz_score(df_cluster, km_labels)\n",
    "print('Calinski Harabasz Score: ', round(calinski_harabasz,3))"
   ]
  },
  {
   "cell_type": "markdown",
   "metadata": {},
   "source": [
    "# HIERARCHICAL CLUSTERING"
   ]
  },
  {
   "cell_type": "markdown",
   "metadata": {},
   "source": [
    "Ward or Complete were the methods that gave us the steepest jump in R^2, so we'll choose one of these methods"
   ]
  },
  {
   "cell_type": "code",
   "execution_count": 18,
   "metadata": {},
   "outputs": [],
   "source": [
    "# setting distance_threshold=0 and n_clusters=None ensures we compute the full tree\n",
    "linkage = 'ward'\n",
    "distance = 'euclidean'\n",
    "hclust = AgglomerativeClustering(linkage=linkage, affinity=distance, distance_threshold=0, n_clusters=None)\n",
    "hclust_labels = hclust.fit_predict(df_centroids)"
   ]
  },
  {
   "cell_type": "markdown",
   "metadata": {},
   "source": [
    "Plots dendogram of obtained hierarchical clustering"
   ]
  },
  {
   "cell_type": "code",
   "execution_count": 19,
   "metadata": {},
   "outputs": [
    {
     "data": {
      "image/png": "[encoded data removed]",
      "text/plain": [
       "<Figure size 792x360 with 1 Axes>"
      ]
     },
     "metadata": {},
     "output_type": "display_data"
    }
   ],
   "source": [
    "# Adapted from:\n",
    "# https://scikit-learn.org/stable/auto_examples/cluster/plot_agglomerative_dendrogram.html#sphx-glr-auto-examples-cluster-plot-agglomerative-dendrogram-py\n",
    "\n",
    "# create the counts of samples under each node (number of points being merged)\n",
    "counts = np.zeros(hclust.children_.shape[0])\n",
    "n_samples = len(hclust.labels_)\n",
    "\n",
    "# hclust.children_ contains the observation ids that are being merged together\n",
    "# At the i-th iteration, children[i][0] and children[i][1] are merged to form node n_samples + i\n",
    "for i, merge in enumerate(hclust.children_):\n",
    "    # track the number of observations in the current cluster being formed\n",
    "    current_count = 0\n",
    "    for child_idx in merge:\n",
    "        if child_idx < n_samples:\n",
    "            # If this is True, then we are merging an observation\n",
    "            current_count += 1  # leaf node\n",
    "        else:\n",
    "            # Otherwise, we are merging a previously formed cluster\n",
    "            current_count += counts[child_idx - n_samples]\n",
    "    counts[i] = current_count\n",
    "\n",
    "# the hclust.children_ is used to indicate the two points/clusters being merged (dendrogram's u-joins)\n",
    "# the hclust.distances_ indicates the distance between the two points/clusters (height of the u-joins)\n",
    "# the counts indicate the number of points being merged (dendrogram's x-axis)\n",
    "linkage_matrix = np.column_stack(\n",
    "    [hclust.children_, hclust.distances_, counts]\n",
    ").astype(float)\n",
    "\n",
    "# Plot the corresponding dendrogram\n",
    "sns.set()\n",
    "sns.set_style(style=\"whitegrid\")\n",
    "fig = plt.figure(figsize=(11,5))\n",
    "# The Dendrogram parameters need to be tuned\n",
    "y_threshold = 1.25\n",
    "dendrogram(linkage_matrix, truncate_mode='level', p=5, color_threshold=y_threshold, above_threshold_color='k')\n",
    "plt.hlines(y_threshold, 0, 1000, colors=\"r\", linestyles=\"dashed\")\n",
    "plt.title(f'Hierarchical Clustering - {linkage.title()}\\'s Dendrogram', fontsize=21)\n",
    "plt.xlabel('Index of Cluster')\n",
    "plt.ylabel(f'{distance.title()} Distance', fontsize=13)\n",
    "plt.show()"
   ]
  },
  {
   "cell_type": "code",
   "execution_count": 20,
   "metadata": {},
   "outputs": [],
   "source": [
    "# 2 cluster solution\n",
    "df_concat['labels'].replace([3,1,4,2,0,5], [8,8,8,9,9,9], inplace=True)\n",
    "hc2_labels = df_concat['labels'].values"
   ]
  },
  {
   "cell_type": "markdown",
   "metadata": {},
   "source": [
    "# METRICS FOR K-means + HIERARCHICAL CLUSTERING EVALUATION"
   ]
  },
  {
   "cell_type": "code",
   "execution_count": 21,
   "metadata": {},
   "outputs": [
    {
     "name": "stdout",
     "output_type": "stream",
     "text": [
      "R^2 Score:  0.289\n"
     ]
    }
   ],
   "source": [
    "# using R^2\n",
    "def get_ss(df):\n",
    "    ss = np.sum(df.var() * (df.count() - 1))\n",
    "    return ss # return sum of sum of squares of each df variable\n",
    "\n",
    "sst = get_ss(df_cluster) # get total sum of squares\n",
    "ssw_labels = df_concat.groupby(['labels']).apply(get_ss) # compute ssw for each cluster labels\n",
    "ssb = sst - np.sum(ssw_labels) # remember: SST = SSW + SSB\n",
    "r2 = ssb / sst\n",
    "print('R^2 Score: ', round(r2,3))"
   ]
  },
  {
   "cell_type": "code",
   "execution_count": 22,
   "metadata": {},
   "outputs": [
    {
     "name": "stdout",
     "output_type": "stream",
     "text": [
      "Silhouette Score:  0.275\n"
     ]
    }
   ],
   "source": [
    "silhoutte_score = silhouette_score(df_cluster, hc2_labels, random_state=15)\n",
    "\n",
    "print('Silhouette Score: ', round(silhoutte_score,3))"
   ]
  },
  {
   "cell_type": "code",
   "execution_count": 23,
   "metadata": {},
   "outputs": [
    {
     "name": "stdout",
     "output_type": "stream",
     "text": [
      "Calinski Harabasz Score:  26362.022\n"
     ]
    }
   ],
   "source": [
    "calinski_harabasz = calinski_harabasz_score(df_cluster, hc2_labels)\n",
    "print('Calinski Harabasz Score: ', round(calinski_harabasz,3))"
   ]
  },
  {
   "cell_type": "markdown",
   "metadata": {},
   "source": [
    "# Re-introducing the Outliers"
   ]
  },
  {
   "cell_type": "code",
   "execution_count": 24,
   "metadata": {},
   "outputs": [
    {
     "name": "stdout",
     "output_type": "stream",
     "text": [
      "It is estimated that in average, we are able to predict 92.20% of the customers correctly\n"
     ]
    }
   ],
   "source": [
    "X = df[clustering_features]\n",
    "y = df_concat['labels']\n",
    "\n",
    "# Splitting the data\n",
    "X_train, X_test, y_train, y_test = train_test_split(\n",
    "    X, y, test_size=0.2, random_state=42)\n",
    "\n",
    "# Fitting the decision tree\n",
    "dt = DecisionTreeClassifier(random_state=42, max_depth=3)\n",
    "dt.fit(X_train, y_train)\n",
    "print(\"It is estimated that in average, we are able to predict {0:.2f}% of the customers correctly\".format(dt.score(X_test, y_test)*100))"
   ]
  },
  {
   "cell_type": "code",
   "execution_count": 25,
   "metadata": {},
   "outputs": [
    {
     "data": {
      "text/plain": [
       "LONGEVITY             0.142219\n",
       "RAMNTALL              0.017591\n",
       "NGIFTALL              0.773809\n",
       "PROP_RESP_CARDPROM    0.000000\n",
       "HVP4                  0.043047\n",
       "IC5                   0.023334\n",
       "EC4                   0.000000\n",
       "dtype: float64"
      ]
     },
     "execution_count": 25,
     "metadata": {},
     "output_type": "execute_result"
    }
   ],
   "source": [
    "# Assessing feature importance\n",
    "pd.Series(dt.feature_importances_, index=X_train.columns)"
   ]
  },
  {
   "cell_type": "code",
   "execution_count": 26,
   "metadata": {},
   "outputs": [],
   "source": [
    "#imports outliers\n",
    "path = os.path.join(\"outliers_notstd.csv\")\n",
    "df_outliers = pd.read_csv(path)"
   ]
  },
  {
   "cell_type": "code",
   "execution_count": 27,
   "metadata": {},
   "outputs": [],
   "source": [
    "# Scales the data\n",
    "scaler = RobustScaler()\n",
    "scaled_feat = scaler.fit_transform(df_outliers[clustering_features])\n",
    "\n",
    "df_outliers[clustering_features] = scaled_feat"
   ]
  },
  {
   "cell_type": "code",
   "execution_count": 28,
   "metadata": {},
   "outputs": [],
   "source": [
    "# Predicting the cluster labels of the outliers\n",
    "df_outliers['labels'] = dt.predict(df_outliers[clustering_features])"
   ]
  },
  {
   "cell_type": "code",
   "execution_count": 29,
   "metadata": {},
   "outputs": [
    {
     "data": {
      "image/svg+xml": [
       "<?xml version=\"1.0\" encoding=\"UTF-8\" standalone=\"no\"?>\n",
       "<!DOCTYPE svg PUBLIC \"-//W3C//DTD SVG 1.1//EN\"\n",
       " \"http://www.w3.org/Graphics/SVG/1.1/DTD/svg11.dtd\">\n",
       "<!-- Generated by graphviz version 2.40.1 (20161225.0304)\n",
       " -->\n",
       "<!-- Title: Tree Pages: 1 -->\n",
       "<svg width=\"1230pt\" height=\"373pt\"\n",
       " viewBox=\"0.00 0.00 1230.00 373.00\" xmlns=\"http://www.w3.org/2000/svg\" xmlns:xlink=\"http://www.w3.org/1999/xlink\">\n",
       "<g id=\"graph0\" class=\"graph\" transform=\"scale(1 1) rotate(0) translate(4 369)\">\n",
       "<title>Tree</title>\n",
       "<polygon fill=\"#ffffff\" stroke=\"transparent\" points=\"-4,4 -4,-369 1226,-369 1226,4 -4,4\"/>\n",
       "<!-- 0 -->\n",
       "<g id=\"node1\" class=\"node\">\n",
       "<title>0</title>\n",
       "<path fill=\"#e3f1fb\" stroke=\"#000000\" d=\"M650.5,-365C650.5,-365 515.5,-365 515.5,-365 509.5,-365 503.5,-359 503.5,-353 503.5,-353 503.5,-309 503.5,-309 503.5,-303 509.5,-297 515.5,-297 515.5,-297 650.5,-297 650.5,-297 656.5,-297 662.5,-303 662.5,-309 662.5,-309 662.5,-353 662.5,-353 662.5,-359 656.5,-365 650.5,-365\"/>\n",
       "<text text-anchor=\"start\" x=\"532\" y=\"-349.8\" font-family=\"Helvetica,sans-Serif\" font-size=\"14.00\" fill=\"#000000\">NGIFTALL ≤ 8.5</text>\n",
       "<text text-anchor=\"start\" x=\"546.5\" y=\"-334.8\" font-family=\"Helvetica,sans-Serif\" font-size=\"14.00\" fill=\"#000000\">gini = 0.497</text>\n",
       "<text text-anchor=\"start\" x=\"529\" y=\"-319.8\" font-family=\"Helvetica,sans-Serif\" font-size=\"14.00\" fill=\"#000000\">samples = 51913</text>\n",
       "<text text-anchor=\"start\" x=\"511.5\" y=\"-304.8\" font-family=\"Helvetica,sans-Serif\" font-size=\"14.00\" fill=\"#000000\">value = [23980, 27933]</text>\n",
       "</g>\n",
       "<!-- 1 -->\n",
       "<g id=\"node2\" class=\"node\">\n",
       "<title>1</title>\n",
       "<path fill=\"#53aae8\" stroke=\"#000000\" d=\"M562,-261C562,-261 434,-261 434,-261 428,-261 422,-255 422,-249 422,-249 422,-205 422,-205 422,-199 428,-193 434,-193 434,-193 562,-193 562,-193 568,-193 574,-199 574,-205 574,-205 574,-249 574,-249 574,-255 568,-261 562,-261\"/>\n",
       "<text text-anchor=\"start\" x=\"432.5\" y=\"-245.8\" font-family=\"Helvetica,sans-Serif\" font-size=\"14.00\" fill=\"#000000\">LONGEVITY ≤ 128.0</text>\n",
       "<text text-anchor=\"start\" x=\"461.5\" y=\"-230.8\" font-family=\"Helvetica,sans-Serif\" font-size=\"14.00\" fill=\"#000000\">gini = 0.207</text>\n",
       "<text text-anchor=\"start\" x=\"444\" y=\"-215.8\" font-family=\"Helvetica,sans-Serif\" font-size=\"14.00\" fill=\"#000000\">samples = 28379</text>\n",
       "<text text-anchor=\"start\" x=\"430\" y=\"-200.8\" font-family=\"Helvetica,sans-Serif\" font-size=\"14.00\" fill=\"#000000\">value = [3333, 25046]</text>\n",
       "</g>\n",
       "<!-- 0&#45;&gt;1 -->\n",
       "<g id=\"edge1\" class=\"edge\">\n",
       "<title>0&#45;&gt;1</title>\n",
       "<path fill=\"none\" stroke=\"#000000\" d=\"M555.1678,-296.9465C547.903,-288.0578 539.9864,-278.3716 532.424,-269.1188\"/>\n",
       "<polygon fill=\"#000000\" stroke=\"#000000\" points=\"534.9331,-266.658 525.8947,-261.13 529.513,-271.0878 534.9331,-266.658\"/>\n",
       "<text text-anchor=\"middle\" x=\"523.3941\" y=\"-282.3046\" font-family=\"Helvetica,sans-Serif\" font-size=\"14.00\" fill=\"#000000\">True</text>\n",
       "</g>\n",
       "<!-- 8 -->\n",
       "<g id=\"node9\" class=\"node\">\n",
       "<title>8</title>\n",
       "<path fill=\"#e99355\" stroke=\"#000000\" d=\"M795,-261C795,-261 667,-261 667,-261 661,-261 655,-255 655,-249 655,-249 655,-205 655,-205 655,-199 661,-193 667,-193 667,-193 795,-193 795,-193 801,-193 807,-199 807,-205 807,-205 807,-249 807,-249 807,-255 801,-261 795,-261\"/>\n",
       "<text text-anchor=\"start\" x=\"665.5\" y=\"-245.8\" font-family=\"Helvetica,sans-Serif\" font-size=\"14.00\" fill=\"#000000\">LONGEVITY ≤ 113.0</text>\n",
       "<text text-anchor=\"start\" x=\"694.5\" y=\"-230.8\" font-family=\"Helvetica,sans-Serif\" font-size=\"14.00\" fill=\"#000000\">gini = 0.215</text>\n",
       "<text text-anchor=\"start\" x=\"677\" y=\"-215.8\" font-family=\"Helvetica,sans-Serif\" font-size=\"14.00\" fill=\"#000000\">samples = 23534</text>\n",
       "<text text-anchor=\"start\" x=\"663\" y=\"-200.8\" font-family=\"Helvetica,sans-Serif\" font-size=\"14.00\" fill=\"#000000\">value = [20647, 2887]</text>\n",
       "</g>\n",
       "<!-- 0&#45;&gt;8 -->\n",
       "<g id=\"edge8\" class=\"edge\">\n",
       "<title>0&#45;&gt;8</title>\n",
       "<path fill=\"none\" stroke=\"#000000\" d=\"M631.4607,-296.9465C645.1323,-287.3395 660.1294,-276.8009 674.2409,-266.8848\"/>\n",
       "<polygon fill=\"#000000\" stroke=\"#000000\" points=\"676.2608,-269.7432 682.4304,-261.13 672.2361,-264.0158 676.2608,-269.7432\"/>\n",
       "<text text-anchor=\"middle\" x=\"678.1304\" y=\"-282.0574\" font-family=\"Helvetica,sans-Serif\" font-size=\"14.00\" fill=\"#000000\">False</text>\n",
       "</g>\n",
       "<!-- 2 -->\n",
       "<g id=\"node3\" class=\"node\">\n",
       "<title>2</title>\n",
       "<path fill=\"#42a1e6\" stroke=\"#000000\" d=\"M294,-157C294,-157 166,-157 166,-157 160,-157 154,-151 154,-145 154,-145 154,-101 154,-101 154,-95 160,-89 166,-89 166,-89 294,-89 294,-89 300,-89 306,-95 306,-101 306,-101 306,-145 306,-145 306,-151 300,-157 294,-157\"/>\n",
       "<text text-anchor=\"start\" x=\"167\" y=\"-141.8\" font-family=\"Helvetica,sans-Serif\" font-size=\"14.00\" fill=\"#000000\">RAMNTALL ≤ 86.65</text>\n",
       "<text text-anchor=\"start\" x=\"193.5\" y=\"-126.8\" font-family=\"Helvetica,sans-Serif\" font-size=\"14.00\" fill=\"#000000\">gini = 0.082</text>\n",
       "<text text-anchor=\"start\" x=\"176\" y=\"-111.8\" font-family=\"Helvetica,sans-Serif\" font-size=\"14.00\" fill=\"#000000\">samples = 24544</text>\n",
       "<text text-anchor=\"start\" x=\"162\" y=\"-96.8\" font-family=\"Helvetica,sans-Serif\" font-size=\"14.00\" fill=\"#000000\">value = [1054, 23490]</text>\n",
       "</g>\n",
       "<!-- 1&#45;&gt;2 -->\n",
       "<g id=\"edge2\" class=\"edge\">\n",
       "<title>1&#45;&gt;2</title>\n",
       "<path fill=\"none\" stroke=\"#000000\" d=\"M421.9188,-197.476C388.819,-184.6313 349.8809,-169.5209 315.759,-156.2796\"/>\n",
       "<polygon fill=\"#000000\" stroke=\"#000000\" points=\"316.8603,-152.9527 306.2714,-152.5979 314.3278,-159.4786 316.8603,-152.9527\"/>\n",
       "</g>\n",
       "<!-- 5 -->\n",
       "<g id=\"node6\" class=\"node\">\n",
       "<title>5</title>\n",
       "<path fill=\"#f7d7c0\" stroke=\"#000000\" d=\"M558,-157C558,-157 438,-157 438,-157 432,-157 426,-151 426,-145 426,-145 426,-101 426,-101 426,-95 432,-89 438,-89 438,-89 558,-89 558,-89 564,-89 570,-95 570,-101 570,-101 570,-145 570,-145 570,-151 564,-157 558,-157\"/>\n",
       "<text text-anchor=\"start\" x=\"458\" y=\"-141.8\" font-family=\"Helvetica,sans-Serif\" font-size=\"14.00\" fill=\"#000000\">HVP4 ≤ 52.5</text>\n",
       "<text text-anchor=\"start\" x=\"461.5\" y=\"-126.8\" font-family=\"Helvetica,sans-Serif\" font-size=\"14.00\" fill=\"#000000\">gini = 0.482</text>\n",
       "<text text-anchor=\"start\" x=\"448\" y=\"-111.8\" font-family=\"Helvetica,sans-Serif\" font-size=\"14.00\" fill=\"#000000\">samples = 3835</text>\n",
       "<text text-anchor=\"start\" x=\"434\" y=\"-96.8\" font-family=\"Helvetica,sans-Serif\" font-size=\"14.00\" fill=\"#000000\">value = [2279, 1556]</text>\n",
       "</g>\n",
       "<!-- 1&#45;&gt;5 -->\n",
       "<g id=\"edge5\" class=\"edge\">\n",
       "<title>1&#45;&gt;5</title>\n",
       "<path fill=\"none\" stroke=\"#000000\" d=\"M498,-192.9465C498,-184.776 498,-175.9318 498,-167.3697\"/>\n",
       "<polygon fill=\"#000000\" stroke=\"#000000\" points=\"501.5001,-167.13 498,-157.13 494.5001,-167.13 501.5001,-167.13\"/>\n",
       "</g>\n",
       "<!-- 3 -->\n",
       "<g id=\"node4\" class=\"node\">\n",
       "<title>3</title>\n",
       "<path fill=\"#3c9ee5\" stroke=\"#000000\" d=\"M132,-53C132,-53 12,-53 12,-53 6,-53 0,-47 0,-41 0,-41 0,-12 0,-12 0,-6 6,0 12,0 12,0 132,0 132,0 138,0 144,-6 144,-12 144,-12 144,-41 144,-41 144,-47 138,-53 132,-53\"/>\n",
       "<text text-anchor=\"start\" x=\"35.5\" y=\"-37.8\" font-family=\"Helvetica,sans-Serif\" font-size=\"14.00\" fill=\"#000000\">gini = 0.029</text>\n",
       "<text text-anchor=\"start\" x=\"18\" y=\"-22.8\" font-family=\"Helvetica,sans-Serif\" font-size=\"14.00\" fill=\"#000000\">samples = 22082</text>\n",
       "<text text-anchor=\"start\" x=\"8\" y=\"-7.8\" font-family=\"Helvetica,sans-Serif\" font-size=\"14.00\" fill=\"#000000\">value = [328, 21754]</text>\n",
       "</g>\n",
       "<!-- 2&#45;&gt;3 -->\n",
       "<g id=\"edge3\" class=\"edge\">\n",
       "<title>2&#45;&gt;3</title>\n",
       "<path fill=\"none\" stroke=\"#000000\" d=\"M174.2951,-88.9777C158.028,-79.0424 140.3136,-68.2232 124.2674,-58.4228\"/>\n",
       "<polygon fill=\"#000000\" stroke=\"#000000\" points=\"125.9027,-55.3204 115.5442,-53.095 122.254,-61.2943 125.9027,-55.3204\"/>\n",
       "</g>\n",
       "<!-- 4 -->\n",
       "<g id=\"node5\" class=\"node\">\n",
       "<title>4</title>\n",
       "<path fill=\"#8cc6f0\" stroke=\"#000000\" d=\"M286,-53C286,-53 174,-53 174,-53 168,-53 162,-47 162,-41 162,-41 162,-12 162,-12 162,-6 168,0 174,0 174,0 286,0 286,0 292,0 298,-6 298,-12 298,-12 298,-41 298,-41 298,-47 292,-53 286,-53\"/>\n",
       "<text text-anchor=\"start\" x=\"193.5\" y=\"-37.8\" font-family=\"Helvetica,sans-Serif\" font-size=\"14.00\" fill=\"#000000\">gini = 0.416</text>\n",
       "<text text-anchor=\"start\" x=\"180\" y=\"-22.8\" font-family=\"Helvetica,sans-Serif\" font-size=\"14.00\" fill=\"#000000\">samples = 2462</text>\n",
       "<text text-anchor=\"start\" x=\"170\" y=\"-7.8\" font-family=\"Helvetica,sans-Serif\" font-size=\"14.00\" fill=\"#000000\">value = [726, 1736]</text>\n",
       "</g>\n",
       "<!-- 2&#45;&gt;4 -->\n",
       "<g id=\"edge4\" class=\"edge\">\n",
       "<title>2&#45;&gt;4</title>\n",
       "<path fill=\"none\" stroke=\"#000000\" d=\"M230,-88.9777C230,-80.7364 230,-71.887 230,-63.5153\"/>\n",
       "<polygon fill=\"#000000\" stroke=\"#000000\" points=\"233.5001,-63.2484 230,-53.2485 226.5001,-63.2485 233.5001,-63.2484\"/>\n",
       "</g>\n",
       "<!-- 6 -->\n",
       "<g id=\"node7\" class=\"node\">\n",
       "<title>6</title>\n",
       "<path fill=\"#e78d4b\" stroke=\"#000000\" d=\"M440,-53C440,-53 328,-53 328,-53 322,-53 316,-47 316,-41 316,-41 316,-12 316,-12 316,-6 322,0 328,0 328,0 440,0 440,0 446,0 452,-6 452,-12 452,-12 452,-41 452,-41 452,-47 446,-53 440,-53\"/>\n",
       "<text text-anchor=\"start\" x=\"347.5\" y=\"-37.8\" font-family=\"Helvetica,sans-Serif\" font-size=\"14.00\" fill=\"#000000\">gini = 0.154</text>\n",
       "<text text-anchor=\"start\" x=\"334\" y=\"-22.8\" font-family=\"Helvetica,sans-Serif\" font-size=\"14.00\" fill=\"#000000\">samples = 1984</text>\n",
       "<text text-anchor=\"start\" x=\"324\" y=\"-7.8\" font-family=\"Helvetica,sans-Serif\" font-size=\"14.00\" fill=\"#000000\">value = [1817, 167]</text>\n",
       "</g>\n",
       "<!-- 5&#45;&gt;6 -->\n",
       "<g id=\"edge6\" class=\"edge\">\n",
       "<title>5&#45;&gt;6</title>\n",
       "<path fill=\"none\" stroke=\"#000000\" d=\"M457.8079,-88.9777C446.6658,-79.546 434.5827,-69.3178 423.4815,-59.9208\"/>\n",
       "<polygon fill=\"#000000\" stroke=\"#000000\" points=\"425.4932,-57.038 415.5992,-53.2485 420.9705,-62.3809 425.4932,-57.038\"/>\n",
       "</g>\n",
       "<!-- 7 -->\n",
       "<g id=\"node8\" class=\"node\">\n",
       "<title>7</title>\n",
       "<path fill=\"#7bbeee\" stroke=\"#000000\" d=\"M594,-53C594,-53 482,-53 482,-53 476,-53 470,-47 470,-41 470,-41 470,-12 470,-12 470,-6 476,0 482,0 482,0 594,0 594,0 600,0 606,-6 606,-12 606,-12 606,-41 606,-41 606,-47 600,-53 594,-53\"/>\n",
       "<text text-anchor=\"start\" x=\"501.5\" y=\"-37.8\" font-family=\"Helvetica,sans-Serif\" font-size=\"14.00\" fill=\"#000000\">gini = 0.375</text>\n",
       "<text text-anchor=\"start\" x=\"488\" y=\"-22.8\" font-family=\"Helvetica,sans-Serif\" font-size=\"14.00\" fill=\"#000000\">samples = 1851</text>\n",
       "<text text-anchor=\"start\" x=\"478\" y=\"-7.8\" font-family=\"Helvetica,sans-Serif\" font-size=\"14.00\" fill=\"#000000\">value = [462, 1389]</text>\n",
       "</g>\n",
       "<!-- 5&#45;&gt;7 -->\n",
       "<g id=\"edge7\" class=\"edge\">\n",
       "<title>5&#45;&gt;7</title>\n",
       "<path fill=\"none\" stroke=\"#000000\" d=\"M512.1025,-88.9777C515.6324,-80.4617 519.4316,-71.2963 523.0032,-62.6798\"/>\n",
       "<polygon fill=\"#000000\" stroke=\"#000000\" points=\"526.3166,-63.8265 526.9125,-53.2485 519.8501,-61.1461 526.3166,-63.8265\"/>\n",
       "</g>\n",
       "<!-- 9 -->\n",
       "<g id=\"node10\" class=\"node\">\n",
       "<title>9</title>\n",
       "<path fill=\"#f7dac4\" stroke=\"#000000\" d=\"M791,-157C791,-157 671,-157 671,-157 665,-157 659,-151 659,-145 659,-145 659,-101 659,-101 659,-95 665,-89 671,-89 671,-89 791,-89 791,-89 797,-89 803,-95 803,-101 803,-101 803,-145 803,-145 803,-151 797,-157 791,-157\"/>\n",
       "<text text-anchor=\"start\" x=\"676\" y=\"-141.8\" font-family=\"Helvetica,sans-Serif\" font-size=\"14.00\" fill=\"#000000\">NGIFTALL ≤ 10.5</text>\n",
       "<text text-anchor=\"start\" x=\"694.5\" y=\"-126.8\" font-family=\"Helvetica,sans-Serif\" font-size=\"14.00\" fill=\"#000000\">gini = 0.485</text>\n",
       "<text text-anchor=\"start\" x=\"681\" y=\"-111.8\" font-family=\"Helvetica,sans-Serif\" font-size=\"14.00\" fill=\"#000000\">samples = 3918</text>\n",
       "<text text-anchor=\"start\" x=\"667\" y=\"-96.8\" font-family=\"Helvetica,sans-Serif\" font-size=\"14.00\" fill=\"#000000\">value = [2300, 1618]</text>\n",
       "</g>\n",
       "<!-- 8&#45;&gt;9 -->\n",
       "<g id=\"edge9\" class=\"edge\">\n",
       "<title>8&#45;&gt;9</title>\n",
       "<path fill=\"none\" stroke=\"#000000\" d=\"M731,-192.9465C731,-184.776 731,-175.9318 731,-167.3697\"/>\n",
       "<polygon fill=\"#000000\" stroke=\"#000000\" points=\"734.5001,-167.13 731,-157.13 727.5001,-167.13 734.5001,-167.13\"/>\n",
       "</g>\n",
       "<!-- 12 -->\n",
       "<g id=\"node13\" class=\"node\">\n",
       "<title>12</title>\n",
       "<path fill=\"#e78a47\" stroke=\"#000000\" d=\"M1068,-157C1068,-157 940,-157 940,-157 934,-157 928,-151 928,-145 928,-145 928,-101 928,-101 928,-95 934,-89 940,-89 940,-89 1068,-89 1068,-89 1074,-89 1080,-95 1080,-101 1080,-101 1080,-145 1080,-145 1080,-151 1074,-157 1068,-157\"/>\n",
       "<text text-anchor=\"start\" x=\"960\" y=\"-141.8\" font-family=\"Helvetica,sans-Serif\" font-size=\"14.00\" fill=\"#000000\">IC5 ≤ 25739.0</text>\n",
       "<text text-anchor=\"start\" x=\"967.5\" y=\"-126.8\" font-family=\"Helvetica,sans-Serif\" font-size=\"14.00\" fill=\"#000000\">gini = 0.121</text>\n",
       "<text text-anchor=\"start\" x=\"950\" y=\"-111.8\" font-family=\"Helvetica,sans-Serif\" font-size=\"14.00\" fill=\"#000000\">samples = 19616</text>\n",
       "<text text-anchor=\"start\" x=\"936\" y=\"-96.8\" font-family=\"Helvetica,sans-Serif\" font-size=\"14.00\" fill=\"#000000\">value = [18347, 1269]</text>\n",
       "</g>\n",
       "<!-- 8&#45;&gt;12 -->\n",
       "<g id=\"edge12\" class=\"edge\">\n",
       "<title>8&#45;&gt;12</title>\n",
       "<path fill=\"none\" stroke=\"#000000\" d=\"M807.0457,-198.0302C841.6597,-184.8439 882.7732,-169.1816 918.4604,-155.5865\"/>\n",
       "<polygon fill=\"#000000\" stroke=\"#000000\" points=\"919.7902,-158.8254 927.8891,-151.9946 917.2982,-152.2839 919.7902,-158.8254\"/>\n",
       "</g>\n",
       "<!-- 10 -->\n",
       "<g id=\"node11\" class=\"node\">\n",
       "<title>10</title>\n",
       "<path fill=\"#98ccf2\" stroke=\"#000000\" d=\"M748,-53C748,-53 636,-53 636,-53 630,-53 624,-47 624,-41 624,-41 624,-12 624,-12 624,-6 630,0 636,0 636,0 748,0 748,0 754,0 760,-6 760,-12 760,-12 760,-41 760,-41 760,-47 754,-53 748,-53\"/>\n",
       "<text text-anchor=\"start\" x=\"655.5\" y=\"-37.8\" font-family=\"Helvetica,sans-Serif\" font-size=\"14.00\" fill=\"#000000\">gini = 0.439</text>\n",
       "<text text-anchor=\"start\" x=\"642\" y=\"-22.8\" font-family=\"Helvetica,sans-Serif\" font-size=\"14.00\" fill=\"#000000\">samples = 1728</text>\n",
       "<text text-anchor=\"start\" x=\"632\" y=\"-7.8\" font-family=\"Helvetica,sans-Serif\" font-size=\"14.00\" fill=\"#000000\">value = [562, 1166]</text>\n",
       "</g>\n",
       "<!-- 9&#45;&gt;10 -->\n",
       "<g id=\"edge10\" class=\"edge\">\n",
       "<title>9&#45;&gt;10</title>\n",
       "<path fill=\"none\" stroke=\"#000000\" d=\"M717.2501,-88.9777C713.8084,-80.4617 710.1042,-71.2963 706.6219,-62.6798\"/>\n",
       "<polygon fill=\"#000000\" stroke=\"#000000\" points=\"709.8024,-61.2085 702.8103,-53.2485 703.3123,-63.8314 709.8024,-61.2085\"/>\n",
       "</g>\n",
       "<!-- 11 -->\n",
       "<g id=\"node12\" class=\"node\">\n",
       "<title>11</title>\n",
       "<path fill=\"#eca26c\" stroke=\"#000000\" d=\"M902,-53C902,-53 790,-53 790,-53 784,-53 778,-47 778,-41 778,-41 778,-12 778,-12 778,-6 784,0 790,0 790,0 902,0 902,0 908,0 914,-6 914,-12 914,-12 914,-41 914,-41 914,-47 908,-53 902,-53\"/>\n",
       "<text text-anchor=\"start\" x=\"809.5\" y=\"-37.8\" font-family=\"Helvetica,sans-Serif\" font-size=\"14.00\" fill=\"#000000\">gini = 0.328</text>\n",
       "<text text-anchor=\"start\" x=\"796\" y=\"-22.8\" font-family=\"Helvetica,sans-Serif\" font-size=\"14.00\" fill=\"#000000\">samples = 2190</text>\n",
       "<text text-anchor=\"start\" x=\"786\" y=\"-7.8\" font-family=\"Helvetica,sans-Serif\" font-size=\"14.00\" fill=\"#000000\">value = [1738, 452]</text>\n",
       "</g>\n",
       "<!-- 9&#45;&gt;11 -->\n",
       "<g id=\"edge11\" class=\"edge\">\n",
       "<title>9&#45;&gt;11</title>\n",
       "<path fill=\"none\" stroke=\"#000000\" d=\"M771.5447,-88.9777C782.7845,-79.546 794.9736,-69.3178 806.1721,-59.9208\"/>\n",
       "<polygon fill=\"#000000\" stroke=\"#000000\" points=\"808.713,-62.3576 814.1236,-53.2485 804.2134,-56.9954 808.713,-62.3576\"/>\n",
       "</g>\n",
       "<!-- 13 -->\n",
       "<g id=\"node14\" class=\"node\">\n",
       "<title>13</title>\n",
       "<path fill=\"#e68640\" stroke=\"#000000\" d=\"M1064,-53C1064,-53 944,-53 944,-53 938,-53 932,-47 932,-41 932,-41 932,-12 932,-12 932,-6 938,0 944,0 944,0 1064,0 1064,0 1070,0 1076,-6 1076,-12 1076,-12 1076,-41 1076,-41 1076,-47 1070,-53 1064,-53\"/>\n",
       "<text text-anchor=\"start\" x=\"967.5\" y=\"-37.8\" font-family=\"Helvetica,sans-Serif\" font-size=\"14.00\" fill=\"#000000\">gini = 0.068</text>\n",
       "<text text-anchor=\"start\" x=\"950\" y=\"-22.8\" font-family=\"Helvetica,sans-Serif\" font-size=\"14.00\" fill=\"#000000\">samples = 18264</text>\n",
       "<text text-anchor=\"start\" x=\"940\" y=\"-7.8\" font-family=\"Helvetica,sans-Serif\" font-size=\"14.00\" fill=\"#000000\">value = [17621, 643]</text>\n",
       "</g>\n",
       "<!-- 12&#45;&gt;13 -->\n",
       "<g id=\"edge13\" class=\"edge\">\n",
       "<title>12&#45;&gt;13</title>\n",
       "<path fill=\"none\" stroke=\"#000000\" d=\"M1004,-88.9777C1004,-80.7364 1004,-71.887 1004,-63.5153\"/>\n",
       "<polygon fill=\"#000000\" stroke=\"#000000\" points=\"1007.5001,-63.2484 1004,-53.2485 1000.5001,-63.2485 1007.5001,-63.2484\"/>\n",
       "</g>\n",
       "<!-- 14 -->\n",
       "<g id=\"node15\" class=\"node\">\n",
       "<title>14</title>\n",
       "<path fill=\"#fbeee4\" stroke=\"#000000\" d=\"M1210,-53C1210,-53 1106,-53 1106,-53 1100,-53 1094,-47 1094,-41 1094,-41 1094,-12 1094,-12 1094,-6 1100,0 1106,0 1106,0 1210,0 1210,0 1216,0 1222,-6 1222,-12 1222,-12 1222,-41 1222,-41 1222,-47 1216,-53 1210,-53\"/>\n",
       "<text text-anchor=\"start\" x=\"1121.5\" y=\"-37.8\" font-family=\"Helvetica,sans-Serif\" font-size=\"14.00\" fill=\"#000000\">gini = 0.497</text>\n",
       "<text text-anchor=\"start\" x=\"1108\" y=\"-22.8\" font-family=\"Helvetica,sans-Serif\" font-size=\"14.00\" fill=\"#000000\">samples = 1352</text>\n",
       "<text text-anchor=\"start\" x=\"1102\" y=\"-7.8\" font-family=\"Helvetica,sans-Serif\" font-size=\"14.00\" fill=\"#000000\">value = [726, 626]</text>\n",
       "</g>\n",
       "<!-- 12&#45;&gt;14 -->\n",
       "<g id=\"edge14\" class=\"edge\">\n",
       "<title>12&#45;&gt;14</title>\n",
       "<path fill=\"none\" stroke=\"#000000\" d=\"M1058.2946,-88.9777C1073.9308,-79.1798 1090.9387,-68.5222 1106.4063,-58.8298\"/>\n",
       "<polygon fill=\"#000000\" stroke=\"#000000\" points=\"1108.698,-61.5242 1115.3133,-53.2485 1104.981,-55.5926 1108.698,-61.5242\"/>\n",
       "</g>\n",
       "</g>\n",
       "</svg>\n"
      ],
      "text/plain": [
       "<graphviz.files.Source at 0x7fcc2d2aaf10>"
      ]
     },
     "execution_count": 29,
     "metadata": {},
     "output_type": "execute_result"
    }
   ],
   "source": [
    "# Visualizing the decision tree\n",
    "dot_data = export_graphviz(dt, out_file=None, \n",
    "                           feature_names=X.columns.to_list(),\n",
    "                           filled=True,\n",
    "                           rounded=True,\n",
    "                           special_characters=True)  \n",
    "graphviz.Source(dot_data)"
   ]
  },
  {
   "cell_type": "code",
   "execution_count": 30,
   "metadata": {},
   "outputs": [],
   "source": [
    "df_concat.insert(loc=0, column='CONTROLN', value=df['CONTROLN'])  #indexes dont change"
   ]
  },
  {
   "cell_type": "code",
   "execution_count": 31,
   "metadata": {},
   "outputs": [],
   "source": [
    "df_concat = df_concat.append(df_outliers[[\"CONTROLN\",\"LONGEVITY\",\"RAMNTALL\",\"NGIFTALL\",\"PROP_RESP_CARDPROM\",\"HVP4\",\"IC5\",\"EC4\",\"labels\"]])\n"
   ]
  },
  {
   "cell_type": "code",
   "execution_count": 32,
   "metadata": {},
   "outputs": [],
   "source": [
    "#Exporting dataset"
   ]
  },
  {
   "cell_type": "code",
   "execution_count": 33,
   "metadata": {},
   "outputs": [],
   "source": [
    "df_concat.to_csv('df_kmeans_hc.csv')"
   ]
  },
  {
   "cell_type": "markdown",
   "metadata": {},
   "source": [
    "# CLUSTER VISUALIZATION USING t-SNE"
   ]
  },
  {
   "cell_type": "code",
   "execution_count": 39,
   "metadata": {},
   "outputs": [],
   "source": [
    "# This is step can be quite time consuming\n",
    "#two_dim = TSNE(random_state=42).fit_transform(df_concat) #this does not do clustering, but it detects distinguishable patterns in our data"
   ]
  },
  {
   "cell_type": "code",
   "execution_count": 40,
   "metadata": {},
   "outputs": [],
   "source": [
    "# t-SNE visualization\n",
    "#pd.DataFrame(two_dim).plot.scatter(x=0, y=1, c=df_concat['labels'], colormap='tab10', figsize=(15,10))\n",
    "#plt.show()"
   ]
  },
  {
   "cell_type": "code",
   "execution_count": null,
   "metadata": {},
   "outputs": [],
   "source": []
  }
 ],
 "metadata": {
  "kernelspec": {
   "display_name": "Python 3",
   "language": "python",
   "name": "python3"
  },
  "language_info": {
   "codemirror_mode": {
    "name": "ipython",
    "version": 3
   },
   "file_extension": ".py",
   "mimetype": "text/x-python",
   "name": "python",
   "nbconvert_exporter": "python",
   "pygments_lexer": "ipython3",
   "version": "3.8.3"
  }
 },
 "nbformat": 4,
 "nbformat_minor": 4
}
